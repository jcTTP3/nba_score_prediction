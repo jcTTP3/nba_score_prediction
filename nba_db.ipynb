{
 "cells": [
  {
   "cell_type": "markdown",
   "metadata": {},
   "source": [
    "## Import Packages"
   ]
  },
  {
   "cell_type": "code",
   "execution_count": 24,
   "metadata": {
    "ExecuteTime": {
     "end_time": "2020-01-29T20:16:11.488677Z",
     "start_time": "2020-01-29T20:16:09.435739Z"
    }
   },
   "outputs": [],
   "source": [
    "import nba_api.stats.endpoints as nba\n",
    "import nba_api as static\n",
    "import config\n",
    "import pandas as pd\n",
    "import mysql_helper\n",
    "import mysql.connector"
   ]
  },
  {
   "cell_type": "markdown",
   "metadata": {
    "ExecuteTime": {
     "end_time": "2020-01-29T19:21:53.993794Z",
     "start_time": "2020-01-29T19:21:53.988805Z"
    }
   },
   "source": [
    "## Connect to Database"
   ]
  },
  {
   "cell_type": "markdown",
   "metadata": {},
   "source": [
    "### MySQL Connection"
   ]
  },
  {
   "cell_type": "code",
   "execution_count": 25,
   "metadata": {
    "ExecuteTime": {
     "end_time": "2020-01-29T20:16:15.025222Z",
     "start_time": "2020-01-29T20:16:13.291849Z"
    }
   },
   "outputs": [],
   "source": [
    "dbname = \"nba\"\n",
    "cnx = mysql.connector.connect(\n",
    "    host = config.host,\n",
    "    user = config.user,\n",
    "    passwd = config.password,\n",
    "    db = dbname)\n",
    "cursor = cnx.cursor(buffered=True)"
   ]
  },
  {
   "cell_type": "markdown",
   "metadata": {},
   "source": [
    "### Also connect to the database using the mysql_helper module which will allow database creation and insertion directly from dataframes"
   ]
  },
  {
   "cell_type": "code",
   "execution_count": 26,
   "metadata": {
    "ExecuteTime": {
     "end_time": "2020-01-29T20:16:24.581696Z",
     "start_time": "2020-01-29T20:16:22.663779Z"
    }
   },
   "outputs": [],
   "source": [
    "flatiron = mysql_helper.Connection(config.host, config.user, config.password)\n",
    "nba_db = mysql_helper.DataBase(flatiron, 'nba')"
   ]
  },
  {
   "cell_type": "markdown",
   "metadata": {
    "ExecuteTime": {
     "end_time": "2020-01-29T19:24:55.943287Z",
     "start_time": "2020-01-29T19:24:55.940875Z"
    }
   },
   "source": [
    "## Retrieve game logs from NBA API"
   ]
  },
  {
   "cell_type": "code",
   "execution_count": 27,
   "metadata": {
    "ExecuteTime": {
     "end_time": "2020-01-29T20:16:27.921648Z",
     "start_time": "2020-01-29T20:16:27.917664Z"
    }
   },
   "outputs": [],
   "source": [
    "# Update headers to match new requirements by stats API--as of January 29, 2019\n",
    "headers = {'Host': 'stats.nba.com', \n",
    "           'User-Agent': 'Mozilla/5.0 (Windows NT 10.0; Win64; x64; rv:72.0) Gecko/20100101 Firefox/72.0', \n",
    "           'Accept': 'application/json, text/plain, */*', \n",
    "           'Accept-Language': 'en-US,en;q=0.5', \n",
    "           'Accept-Encoding': 'gzip, deflate, br', \n",
    "           'x-nba-stats-origin': 'stats', \n",
    "           'x-nba-stats-token': 'true', \n",
    "           'Connection': 'keep-alive', \n",
    "           'Referer': 'https://stats.nba.com/', \n",
    "           'Pragma': 'no-cache', \n",
    "           'Cache-Control': 'no-cache'}"
   ]
  },
  {
   "cell_type": "markdown",
   "metadata": {},
   "source": [
    "### Define function to get the game logs for a given season"
   ]
  },
  {
   "cell_type": "code",
   "execution_count": 28,
   "metadata": {
    "ExecuteTime": {
     "end_time": "2020-01-29T20:16:29.443297Z",
     "start_time": "2020-01-29T20:16:29.438753Z"
    }
   },
   "outputs": [],
   "source": [
    "def get_game_logs(year):\n",
    "    next_ = str(int(year)+1)[-2]\n",
    "    df = nba.LeagueGameLog(season=year + '-' + next_, headers=headers).get_data_frames()[0]\n",
    "    return df"
   ]
  },
  {
   "cell_type": "markdown",
   "metadata": {},
   "source": [
    "### Retrieve the game logs for the 2017, 2018, and 2019 seasons"
   ]
  },
  {
   "cell_type": "code",
   "execution_count": 29,
   "metadata": {
    "ExecuteTime": {
     "end_time": "2020-01-29T20:16:34.519279Z",
     "start_time": "2020-01-29T20:16:31.414648Z"
    }
   },
   "outputs": [],
   "source": [
    "seasons = ['2017', '2018', '2019']\n",
    "dfs = []\n",
    "for season in seasons:\n",
    "    dfs.append(get_game_logs(season))\n",
    "total_logs = pd.concat(dfs)"
   ]
  },
  {
   "cell_type": "code",
   "execution_count": 30,
   "metadata": {
    "ExecuteTime": {
     "end_time": "2020-01-29T20:16:39.009835Z",
     "start_time": "2020-01-29T20:16:38.963593Z"
    }
   },
   "outputs": [
    {
     "data": {
      "text/html": [
       "<div>\n",
       "<style scoped>\n",
       "    .dataframe tbody tr th:only-of-type {\n",
       "        vertical-align: middle;\n",
       "    }\n",
       "\n",
       "    .dataframe tbody tr th {\n",
       "        vertical-align: top;\n",
       "    }\n",
       "\n",
       "    .dataframe thead th {\n",
       "        text-align: right;\n",
       "    }\n",
       "</style>\n",
       "<table border=\"1\" class=\"dataframe\">\n",
       "  <thead>\n",
       "    <tr style=\"text-align: right;\">\n",
       "      <th></th>\n",
       "      <th>SEASON_ID</th>\n",
       "      <th>TEAM_ID</th>\n",
       "      <th>TEAM_ABBREVIATION</th>\n",
       "      <th>TEAM_NAME</th>\n",
       "      <th>GAME_ID</th>\n",
       "      <th>GAME_DATE</th>\n",
       "      <th>MATCHUP</th>\n",
       "      <th>WL</th>\n",
       "      <th>MIN</th>\n",
       "      <th>FGM</th>\n",
       "      <th>...</th>\n",
       "      <th>DREB</th>\n",
       "      <th>REB</th>\n",
       "      <th>AST</th>\n",
       "      <th>STL</th>\n",
       "      <th>BLK</th>\n",
       "      <th>TOV</th>\n",
       "      <th>PF</th>\n",
       "      <th>PTS</th>\n",
       "      <th>PLUS_MINUS</th>\n",
       "      <th>VIDEO_AVAILABLE</th>\n",
       "    </tr>\n",
       "  </thead>\n",
       "  <tbody>\n",
       "    <tr>\n",
       "      <th>1407</th>\n",
       "      <td>22019</td>\n",
       "      <td>1610612738</td>\n",
       "      <td>BOS</td>\n",
       "      <td>Boston Celtics</td>\n",
       "      <td>0021900701</td>\n",
       "      <td>2020-01-28</td>\n",
       "      <td>BOS @ MIA</td>\n",
       "      <td>W</td>\n",
       "      <td>240</td>\n",
       "      <td>39</td>\n",
       "      <td>...</td>\n",
       "      <td>37</td>\n",
       "      <td>48</td>\n",
       "      <td>24</td>\n",
       "      <td>5</td>\n",
       "      <td>8</td>\n",
       "      <td>14</td>\n",
       "      <td>22</td>\n",
       "      <td>109</td>\n",
       "      <td>8</td>\n",
       "      <td>1</td>\n",
       "    </tr>\n",
       "    <tr>\n",
       "      <th>1408</th>\n",
       "      <td>22019</td>\n",
       "      <td>1610612749</td>\n",
       "      <td>MIL</td>\n",
       "      <td>Milwaukee Bucks</td>\n",
       "      <td>0021900705</td>\n",
       "      <td>2020-01-28</td>\n",
       "      <td>MIL vs. WAS</td>\n",
       "      <td>W</td>\n",
       "      <td>240</td>\n",
       "      <td>50</td>\n",
       "      <td>...</td>\n",
       "      <td>35</td>\n",
       "      <td>46</td>\n",
       "      <td>31</td>\n",
       "      <td>3</td>\n",
       "      <td>3</td>\n",
       "      <td>15</td>\n",
       "      <td>26</td>\n",
       "      <td>151</td>\n",
       "      <td>20</td>\n",
       "      <td>1</td>\n",
       "    </tr>\n",
       "    <tr>\n",
       "      <th>1409</th>\n",
       "      <td>22019</td>\n",
       "      <td>1610612764</td>\n",
       "      <td>WAS</td>\n",
       "      <td>Washington Wizards</td>\n",
       "      <td>0021900705</td>\n",
       "      <td>2020-01-28</td>\n",
       "      <td>WAS @ MIL</td>\n",
       "      <td>L</td>\n",
       "      <td>240</td>\n",
       "      <td>44</td>\n",
       "      <td>...</td>\n",
       "      <td>24</td>\n",
       "      <td>35</td>\n",
       "      <td>28</td>\n",
       "      <td>6</td>\n",
       "      <td>6</td>\n",
       "      <td>11</td>\n",
       "      <td>27</td>\n",
       "      <td>131</td>\n",
       "      <td>-20</td>\n",
       "      <td>1</td>\n",
       "    </tr>\n",
       "    <tr>\n",
       "      <th>1410</th>\n",
       "      <td>22019</td>\n",
       "      <td>1610612756</td>\n",
       "      <td>PHX</td>\n",
       "      <td>Phoenix Suns</td>\n",
       "      <td>0021900706</td>\n",
       "      <td>2020-01-28</td>\n",
       "      <td>PHX @ DAL</td>\n",
       "      <td>W</td>\n",
       "      <td>240</td>\n",
       "      <td>51</td>\n",
       "      <td>...</td>\n",
       "      <td>31</td>\n",
       "      <td>39</td>\n",
       "      <td>34</td>\n",
       "      <td>10</td>\n",
       "      <td>4</td>\n",
       "      <td>13</td>\n",
       "      <td>25</td>\n",
       "      <td>133</td>\n",
       "      <td>29</td>\n",
       "      <td>1</td>\n",
       "    </tr>\n",
       "    <tr>\n",
       "      <th>1411</th>\n",
       "      <td>22019</td>\n",
       "      <td>1610612742</td>\n",
       "      <td>DAL</td>\n",
       "      <td>Dallas Mavericks</td>\n",
       "      <td>0021900706</td>\n",
       "      <td>2020-01-28</td>\n",
       "      <td>DAL vs. PHX</td>\n",
       "      <td>L</td>\n",
       "      <td>240</td>\n",
       "      <td>37</td>\n",
       "      <td>...</td>\n",
       "      <td>25</td>\n",
       "      <td>33</td>\n",
       "      <td>19</td>\n",
       "      <td>6</td>\n",
       "      <td>1</td>\n",
       "      <td>17</td>\n",
       "      <td>18</td>\n",
       "      <td>104</td>\n",
       "      <td>-29</td>\n",
       "      <td>1</td>\n",
       "    </tr>\n",
       "  </tbody>\n",
       "</table>\n",
       "<p>5 rows × 29 columns</p>\n",
       "</div>"
      ],
      "text/plain": [
       "     SEASON_ID     TEAM_ID TEAM_ABBREVIATION           TEAM_NAME     GAME_ID  \\\n",
       "1407     22019  1610612738               BOS      Boston Celtics  0021900701   \n",
       "1408     22019  1610612749               MIL     Milwaukee Bucks  0021900705   \n",
       "1409     22019  1610612764               WAS  Washington Wizards  0021900705   \n",
       "1410     22019  1610612756               PHX        Phoenix Suns  0021900706   \n",
       "1411     22019  1610612742               DAL    Dallas Mavericks  0021900706   \n",
       "\n",
       "       GAME_DATE      MATCHUP WL  MIN  FGM  ...  DREB  REB  AST  STL  BLK  \\\n",
       "1407  2020-01-28    BOS @ MIA  W  240   39  ...    37   48   24    5    8   \n",
       "1408  2020-01-28  MIL vs. WAS  W  240   50  ...    35   46   31    3    3   \n",
       "1409  2020-01-28    WAS @ MIL  L  240   44  ...    24   35   28    6    6   \n",
       "1410  2020-01-28    PHX @ DAL  W  240   51  ...    31   39   34   10    4   \n",
       "1411  2020-01-28  DAL vs. PHX  L  240   37  ...    25   33   19    6    1   \n",
       "\n",
       "      TOV  PF  PTS  PLUS_MINUS  VIDEO_AVAILABLE  \n",
       "1407   14  22  109           8                1  \n",
       "1408   15  26  151          20                1  \n",
       "1409   11  27  131         -20                1  \n",
       "1410   13  25  133          29                1  \n",
       "1411   17  18  104         -29                1  \n",
       "\n",
       "[5 rows x 29 columns]"
      ]
     },
     "execution_count": 30,
     "metadata": {},
     "output_type": "execute_result"
    }
   ],
   "source": [
    "total_logs.tail()"
   ]
  },
  {
   "cell_type": "markdown",
   "metadata": {
    "ExecuteTime": {
     "end_time": "2020-01-29T19:26:50.919922Z",
     "start_time": "2020-01-29T19:26:50.917558Z"
    }
   },
   "source": [
    "## Insert into database"
   ]
  },
  {
   "cell_type": "markdown",
   "metadata": {},
   "source": [
    "### Create the primary key for the game_log table"
   ]
  },
  {
   "cell_type": "code",
   "execution_count": 31,
   "metadata": {
    "ExecuteTime": {
     "end_time": "2020-01-29T20:16:58.514341Z",
     "start_time": "2020-01-29T20:16:57.760330Z"
    }
   },
   "outputs": [],
   "source": [
    "total_logs['pk'] = total_logs['GAME_ID']+total_logs['TEAM_ABBREVIATION']"
   ]
  },
  {
   "cell_type": "code",
   "execution_count": 18,
   "metadata": {},
   "outputs": [
    {
     "name": "stdout",
     "output_type": "stream",
     "text": [
      "<class 'pandas.core.frame.DataFrame'>\n",
      "Int64Index: 5390 entries, 0 to 469\n",
      "Data columns (total 30 columns):\n",
      "SEASON_ID            5390 non-null object\n",
      "TEAM_ID              5390 non-null int64\n",
      "TEAM_ABBREVIATION    5390 non-null object\n",
      "TEAM_NAME            5390 non-null object\n",
      "GAME_ID              5390 non-null object\n",
      "GAME_DATE            5390 non-null object\n",
      "MATCHUP              5390 non-null object\n",
      "WL                   5388 non-null object\n",
      "MIN                  5390 non-null int64\n",
      "FGM                  5390 non-null int64\n",
      "FGA                  5390 non-null int64\n",
      "FG_PCT               5390 non-null float64\n",
      "FG3M                 5390 non-null int64\n",
      "FG3A                 5390 non-null int64\n",
      "FG3_PCT              5390 non-null float64\n",
      "FTM                  5390 non-null int64\n",
      "FTA                  5390 non-null int64\n",
      "FT_PCT               5390 non-null float64\n",
      "OREB                 5390 non-null int64\n",
      "DREB                 5390 non-null int64\n",
      "REB                  5390 non-null int64\n",
      "AST                  5390 non-null int64\n",
      "STL                  5390 non-null int64\n",
      "BLK                  5390 non-null int64\n",
      "TOV                  5390 non-null int64\n",
      "PF                   5390 non-null int64\n",
      "PTS                  5390 non-null int64\n",
      "PLUS_MINUS           5390 non-null int64\n",
      "VIDEO_AVAILABLE      5390 non-null int64\n",
      "pk                   5390 non-null object\n",
      "dtypes: float64(3), int64(19), object(8)\n",
      "memory usage: 1.3+ MB\n"
     ]
    }
   ],
   "source": [
    "total_logs.info()"
   ]
  },
  {
   "cell_type": "markdown",
   "metadata": {},
   "source": [
    "### Creat the game_logs table from the dataframe retrieved from the NBA API"
   ]
  },
  {
   "cell_type": "code",
   "execution_count": 19,
   "metadata": {},
   "outputs": [
    {
     "name": "stdout",
     "output_type": "stream",
     "text": [
      "CREATE TABLE IF NOT EXISTS game_logs (SEASON_ID VARCHAR (250), TEAM_ID INT (64), TEAM_ABBREVIATION VARCHAR (250), TEAM_NAME VARCHAR (250), GAME_ID VARCHAR (250), GAME_DATE VARCHAR (250), MATCHUP VARCHAR (250), WL VARCHAR (250), MIN INT (64), FGM INT (64), FGA INT (64), FG_PCT FLOAT, FG3M INT (64), FG3A INT (64), FG3_PCT FLOAT, FTM INT (64), FTA INT (64), FT_PCT FLOAT, OREB INT (64), DREB INT (64), REB INT (64), AST INT (64), STL INT (64), BLK INT (64), TOV INT (64), PF INT (64), PTS INT (64), PLUS_MINUS INT (64), VIDEO_AVAILABLE INT (64), pk VARCHAR (250), PRIMARY KEY (pk));\n",
      "Creating a new table\n",
      "OK\n"
     ]
    }
   ],
   "source": [
    "nba_db.table_fromDf(total_logs,'game_logs', 'pk')"
   ]
  },
  {
   "cell_type": "markdown",
   "metadata": {
    "ExecuteTime": {
     "end_time": "2020-01-29T19:27:20.947987Z",
     "start_time": "2020-01-29T19:27:20.944414Z"
    }
   },
   "source": [
    "## Box Scores Table"
   ]
  },
  {
   "cell_type": "markdown",
   "metadata": {},
   "source": [
    "### Select all game IDs from the game_logs table to fetch the boxscores from these games"
   ]
  },
  {
   "cell_type": "code",
   "execution_count": 32,
   "metadata": {
    "ExecuteTime": {
     "end_time": "2020-01-29T20:17:07.207653Z",
     "start_time": "2020-01-29T20:17:06.146362Z"
    }
   },
   "outputs": [],
   "source": [
    "stmt = \"\"\"SELECT GAME_ID from nba.box_score\"\"\"\n",
    "cursor.execute(stmt)\n",
    "ids = cursor.fetchall()"
   ]
  },
  {
   "cell_type": "code",
   "execution_count": 33,
   "metadata": {
    "ExecuteTime": {
     "end_time": "2020-01-29T20:17:07.870630Z",
     "start_time": "2020-01-29T20:17:07.855433Z"
    }
   },
   "outputs": [],
   "source": [
    "ids_df = pd.DataFrame(ids)\n",
    "ids_df.columns = ['game_id']"
   ]
  },
  {
   "cell_type": "markdown",
   "metadata": {},
   "source": [
    "### Use one game ID from the above dataframe to generate a box score to build the box_score table from"
   ]
  },
  {
   "cell_type": "code",
   "execution_count": 34,
   "metadata": {
    "ExecuteTime": {
     "end_time": "2020-01-29T20:17:12.343396Z",
     "start_time": "2020-01-29T20:17:11.177055Z"
    }
   },
   "outputs": [],
   "source": [
    "box_score = nba.BoxScoreTraditionalV2(game_id='0021900002', headers=headers).get_data_frames()[0]"
   ]
  },
  {
   "cell_type": "markdown",
   "metadata": {},
   "source": [
    "### Create a primary key for each row, change the title of the column for turnovers because the existing one is an SQL keyword and drop the original column"
   ]
  },
  {
   "cell_type": "code",
   "execution_count": 35,
   "metadata": {
    "ExecuteTime": {
     "end_time": "2020-01-29T20:17:15.035150Z",
     "start_time": "2020-01-29T20:17:15.024734Z"
    }
   },
   "outputs": [],
   "source": [
    "box_score['pk'] = str(box_score['PLAYER_ID']) + box_score['GAME_ID']\n",
    "box_score['TOS'] = box_score['TO']\n",
    "box_score.drop('TO', axis=1, inplace=True)"
   ]
  },
  {
   "cell_type": "code",
   "execution_count": 36,
   "metadata": {
    "ExecuteTime": {
     "end_time": "2020-01-29T20:17:16.031474Z",
     "start_time": "2020-01-29T20:17:16.026103Z"
    }
   },
   "outputs": [
    {
     "data": {
      "text/plain": [
       "Index(['GAME_ID', 'TEAM_ID', 'TEAM_ABBREVIATION', 'TEAM_CITY', 'PLAYER_ID',\n",
       "       'PLAYER_NAME', 'START_POSITION', 'COMMENT', 'MIN', 'FGM', 'FGA',\n",
       "       'FG_PCT', 'FG3M', 'FG3A', 'FG3_PCT', 'FTM', 'FTA', 'FT_PCT', 'OREB',\n",
       "       'DREB', 'REB', 'AST', 'STL', 'BLK', 'PF', 'PTS', 'PLUS_MINUS', 'pk',\n",
       "       'TOS'],\n",
       "      dtype='object')"
      ]
     },
     "execution_count": 36,
     "metadata": {},
     "output_type": "execute_result"
    }
   ],
   "source": [
    "box_score.columns"
   ]
  },
  {
   "cell_type": "markdown",
   "metadata": {},
   "source": [
    "### Use the mysql_helper module to create the box_score table directly from the dataframe returned from the NBA api above, using the 'pk' column as the primary key"
   ]
  },
  {
   "cell_type": "code",
   "execution_count": 40,
   "metadata": {},
   "outputs": [],
   "source": [
    "flatiron = mysql_helper.Connection(config.host, config.user, config.password)\n",
    "nba_db = mysql_helper.DataBase(flatiron, 'nba')"
   ]
  },
  {
   "cell_type": "code",
   "execution_count": 50,
   "metadata": {},
   "outputs": [
    {
     "name": "stdout",
     "output_type": "stream",
     "text": [
      "CREATE TABLE IF NOT EXISTS box_score (GAME_ID VARCHAR (250), TEAM_ID INT (64), TEAM_ABBREVIATION VARCHAR (250), TEAM_CITY VARCHAR (250), PLAYER_ID INT (64), PLAYER_NAME VARCHAR (250), START_POSITION VARCHAR (250), COMMENT VARCHAR (250), MIN VARCHAR (250), FGM FLOAT, FGA FLOAT, FG_PCT FLOAT, FG3M FLOAT, FG3A FLOAT, FG3_PCT FLOAT, FTM FLOAT, FTA FLOAT, FT_PCT FLOAT, OREB FLOAT, DREB FLOAT, REB FLOAT, AST FLOAT, STL FLOAT, BLK FLOAT, PF FLOAT, PTS FLOAT, PLUS_MINUS FLOAT, pk VARCHAR (250), TOS FLOAT, PRIMARY KEY (pk));\n",
      "Creating a new table\n",
      "OK\n"
     ]
    }
   ],
   "source": [
    "nba_db.table_fromDf(box_score,'box_score', 'pk')"
   ]
  },
  {
   "cell_type": "markdown",
   "metadata": {},
   "source": [
    "### Parse game ID to generate season ID to feed back into the database"
   ]
  },
  {
   "cell_type": "code",
   "execution_count": 190,
   "metadata": {},
   "outputs": [],
   "source": [
    "stmt=\"\"\"UPDATE nba.box_score\n",
    "    SET SEASON_ID = \"22019\"\n",
    "    WHERE SUBSTRING(GAME_ID, 1,5) = \"00219\"\n",
    "    \"\"\"\n",
    "cursor.execute(stmt)\n",
    "cnx.commit()"
   ]
  },
  {
   "cell_type": "code",
   "execution_count": null,
   "metadata": {},
   "outputs": [],
   "source": [
    "stmt=\"\"\"UPDATE nba.box_score\n",
    "    SET SEASON_ID = \"22018\"\n",
    "    WHERE SUBSTRING(GAME_ID, 1,5) = \"00218\"\n",
    "    \"\"\"\n",
    "cursor.execute(stmt)\n",
    "cnx.commit()"
   ]
  },
  {
   "cell_type": "code",
   "execution_count": null,
   "metadata": {},
   "outputs": [],
   "source": [
    "stmt=\"\"\"UPDATE nba.box_score\n",
    "    SET SEASON_ID = \"22017\"\n",
    "    WHERE SUBSTRING(GAME_ID, 1,5) = \"00217\"\n",
    "    \"\"\"\n",
    "cursor.execute(stmt)\n",
    "cnx.commit()"
   ]
  },
  {
   "cell_type": "markdown",
   "metadata": {},
   "source": [
    "### Generate column in box_score table for the number of instances per game a player accumulates double digit pts, rebs, asts, stls, or blks"
   ]
  },
  {
   "cell_type": "markdown",
   "metadata": {
    "ExecuteTime": {
     "end_time": "2020-01-29T19:29:41.918709Z",
     "start_time": "2020-01-29T19:29:41.915737Z"
    }
   },
   "source": [
    "#### Add columns \"doubles\""
   ]
  },
  {
   "cell_type": "code",
   "execution_count": 25,
   "metadata": {},
   "outputs": [],
   "source": [
    "stmt = \"\"\"ALTER TABLE nba.box_score\n",
    "        ADD COLUMN doubles INT(1)\"\"\"\n",
    "cursor.execute(stmt)"
   ]
  },
  {
   "cell_type": "markdown",
   "metadata": {
    "ExecuteTime": {
     "end_time": "2020-01-29T19:30:07.720006Z",
     "start_time": "2020-01-29T19:30:07.717191Z"
    }
   },
   "source": [
    "#### Update doubles columns"
   ]
  },
  {
   "cell_type": "code",
   "execution_count": 32,
   "metadata": {},
   "outputs": [],
   "source": [
    "stmt = \"\"\"UPDATE nba.box_score\n",
    "        SET doubles = CAST(PTS > 9 AS SIGNED INTEGER) + CAST(AST > 9 AS SIGNED INTEGER) + CAST(BLK > 9 AS SIGNED INTEGER) + CAST(REB > 9 AS SIGNED INTEGER) + CAST(STL > 9 AS SIGNED INTEGER)\"\"\"\n",
    "cursor.execute(stmt)\n",
    "cnx.commit()"
   ]
  },
  {
   "cell_type": "markdown",
   "metadata": {
    "ExecuteTime": {
     "end_time": "2020-01-29T19:30:36.879645Z",
     "start_time": "2020-01-29T19:30:36.876758Z"
    }
   },
   "source": [
    "#### Add column for double double (DD)"
   ]
  },
  {
   "cell_type": "code",
   "execution_count": null,
   "metadata": {},
   "outputs": [],
   "source": [
    "stmt = \"\"\"ALTER TABLE nba.box_score\n",
    "        ADD COLUMN DD INT(1)\"\"\"\n",
    "cursor.execute(stmt)"
   ]
  },
  {
   "cell_type": "markdown",
   "metadata": {
    "ExecuteTime": {
     "end_time": "2020-01-29T19:31:00.127393Z",
     "start_time": "2020-01-29T19:31:00.124503Z"
    }
   },
   "source": [
    "#### Add columns for triple double (TD)"
   ]
  },
  {
   "cell_type": "code",
   "execution_count": 21,
   "metadata": {},
   "outputs": [],
   "source": [
    "stmt = \"\"\"ALTER TABLE nba.box_score\n",
    "        ADD COLUMN TD INT(1)\"\"\"\n",
    "cursor.execute(stmt)"
   ]
  },
  {
   "cell_type": "markdown",
   "metadata": {
    "ExecuteTime": {
     "end_time": "2020-01-29T19:31:17.357498Z",
     "start_time": "2020-01-29T19:31:17.354929Z"
    }
   },
   "source": [
    "#### Update DD and TD columns"
   ]
  },
  {
   "cell_type": "code",
   "execution_count": 33,
   "metadata": {},
   "outputs": [],
   "source": [
    "stmt = \"\"\"UPDATE nba.box_score\n",
    "        SET DD = CASE WHEN doubles = 2 THEN 1\n",
    "                ELSE 0\n",
    "            END,\n",
    "        TD = CASE WHEN doubles > 2 THEN 1\n",
    "                ELSE 0\n",
    "            END;\"\"\"\n",
    "cursor.execute(stmt)\n",
    "cnx.commit()"
   ]
  },
  {
   "cell_type": "markdown",
   "metadata": {},
   "source": [
    "### Calculate DraftKing Fantasy Points for each player for each game https://www.draftkings.com/help/rules/nba"
   ]
  },
  {
   "cell_type": "code",
   "execution_count": null,
   "metadata": {},
   "outputs": [],
   "source": [
    "stmt = \"\"\"UPDATE nba.box_score\n",
    "        SET DK_PTS = PTS + .5*FG3M + 1.25*REB + 1.5*AST + 2*STL + 2*BLK -.5*TOS + 1.5*DD + 3*TD\"\"\"\n",
    "cursor.execute(stmt)\n",
    "cnx.commit()"
   ]
  },
  {
   "cell_type": "markdown",
   "metadata": {
    "ExecuteTime": {
     "end_time": "2020-01-29T19:34:52.644973Z",
     "start_time": "2020-01-29T19:34:52.642137Z"
    }
   },
   "source": [
    "## Feature Engineering"
   ]
  },
  {
   "cell_type": "code",
   "execution_count": 37,
   "metadata": {
    "ExecuteTime": {
     "end_time": "2020-01-29T20:17:32.258885Z",
     "start_time": "2020-01-29T20:17:28.744476Z"
    }
   },
   "outputs": [],
   "source": [
    "stmt = \"\"\"SELECT * FROM nba.box_score\"\"\"\n",
    "cursor.execute(stmt)\n",
    "box_score = cursor.fetchall()"
   ]
  },
  {
   "cell_type": "code",
   "execution_count": 38,
   "metadata": {
    "ExecuteTime": {
     "end_time": "2020-01-29T20:17:33.410218Z",
     "start_time": "2020-01-29T20:17:33.011500Z"
    }
   },
   "outputs": [
    {
     "name": "stdout",
     "output_type": "stream",
     "text": [
      "['GAME_ID', 'TEAM_ID', 'TEAM_ABBREVIATION', 'TEAM_CITY', 'PLAYER_ID', 'PLAYER_NAME', 'START_POSITION', 'COMMENT', 'MIN', 'FGM', 'FGA', 'FG_PCT', 'FG3M', 'FG3A', 'FG3_PCT', 'FTM', 'FTA', 'FT_PCT', 'OREB', 'DREB', 'REB', 'AST', 'STL', 'BLK', 'PF', 'PTS', 'PLUS_MINUS', 'pk', 'TOS', 'SEASON_ID', 'DK_PTS', 'DD', 'TD', 'doubles']\n",
      "34\n"
     ]
    }
   ],
   "source": [
    "field_names = [i[0] for i in cursor.description]\n",
    "print(field_names)\n",
    "print (len(field_names))\n",
    "box_scores_df = pd.DataFrame(box_score, columns=field_names)"
   ]
  },
  {
   "cell_type": "code",
   "execution_count": 39,
   "metadata": {
    "ExecuteTime": {
     "end_time": "2020-01-29T20:17:37.877398Z",
     "start_time": "2020-01-29T20:17:37.833677Z"
    }
   },
   "outputs": [
    {
     "data": {
      "text/html": [
       "<div>\n",
       "<style scoped>\n",
       "    .dataframe tbody tr th:only-of-type {\n",
       "        vertical-align: middle;\n",
       "    }\n",
       "\n",
       "    .dataframe tbody tr th {\n",
       "        vertical-align: top;\n",
       "    }\n",
       "\n",
       "    .dataframe thead th {\n",
       "        text-align: right;\n",
       "    }\n",
       "</style>\n",
       "<table border=\"1\" class=\"dataframe\">\n",
       "  <thead>\n",
       "    <tr style=\"text-align: right;\">\n",
       "      <th></th>\n",
       "      <th>GAME_ID</th>\n",
       "      <th>TEAM_ID</th>\n",
       "      <th>TEAM_ABBREVIATION</th>\n",
       "      <th>TEAM_CITY</th>\n",
       "      <th>PLAYER_ID</th>\n",
       "      <th>PLAYER_NAME</th>\n",
       "      <th>START_POSITION</th>\n",
       "      <th>COMMENT</th>\n",
       "      <th>MIN</th>\n",
       "      <th>FGM</th>\n",
       "      <th>...</th>\n",
       "      <th>PF</th>\n",
       "      <th>PTS</th>\n",
       "      <th>PLUS_MINUS</th>\n",
       "      <th>pk</th>\n",
       "      <th>TOS</th>\n",
       "      <th>SEASON_ID</th>\n",
       "      <th>DK_PTS</th>\n",
       "      <th>DD</th>\n",
       "      <th>TD</th>\n",
       "      <th>doubles</th>\n",
       "    </tr>\n",
       "  </thead>\n",
       "  <tbody>\n",
       "    <tr>\n",
       "      <th>0</th>\n",
       "      <td>None</td>\n",
       "      <td>NaN</td>\n",
       "      <td>None</td>\n",
       "      <td>None</td>\n",
       "      <td>NaN</td>\n",
       "      <td>None</td>\n",
       "      <td>None</td>\n",
       "      <td>None</td>\n",
       "      <td>None</td>\n",
       "      <td>NaN</td>\n",
       "      <td>...</td>\n",
       "      <td>NaN</td>\n",
       "      <td>NaN</td>\n",
       "      <td>NaN</td>\n",
       "      <td></td>\n",
       "      <td>NaN</td>\n",
       "      <td>22017</td>\n",
       "      <td>NaN</td>\n",
       "      <td>0.0</td>\n",
       "      <td>0.0</td>\n",
       "      <td>NaN</td>\n",
       "    </tr>\n",
       "    <tr>\n",
       "      <th>1</th>\n",
       "      <td>0021700001</td>\n",
       "      <td>1.610613e+09</td>\n",
       "      <td>CLE</td>\n",
       "      <td>Cleveland</td>\n",
       "      <td>101112.0</td>\n",
       "      <td>Channing Frye</td>\n",
       "      <td></td>\n",
       "      <td>DNP - Coach's Decision</td>\n",
       "      <td>None</td>\n",
       "      <td>NaN</td>\n",
       "      <td>...</td>\n",
       "      <td>NaN</td>\n",
       "      <td>NaN</td>\n",
       "      <td>NaN</td>\n",
       "      <td>0021700001101112</td>\n",
       "      <td>NaN</td>\n",
       "      <td>22017</td>\n",
       "      <td>NaN</td>\n",
       "      <td>0.0</td>\n",
       "      <td>0.0</td>\n",
       "      <td>NaN</td>\n",
       "    </tr>\n",
       "    <tr>\n",
       "      <th>2</th>\n",
       "      <td>0021700001</td>\n",
       "      <td>1.610613e+09</td>\n",
       "      <td>CLE</td>\n",
       "      <td>Cleveland</td>\n",
       "      <td>101181.0</td>\n",
       "      <td>Jose Calderon</td>\n",
       "      <td></td>\n",
       "      <td>DNP - Coach's Decision</td>\n",
       "      <td>None</td>\n",
       "      <td>NaN</td>\n",
       "      <td>...</td>\n",
       "      <td>NaN</td>\n",
       "      <td>NaN</td>\n",
       "      <td>NaN</td>\n",
       "      <td>0021700001101181</td>\n",
       "      <td>NaN</td>\n",
       "      <td>22017</td>\n",
       "      <td>NaN</td>\n",
       "      <td>0.0</td>\n",
       "      <td>0.0</td>\n",
       "      <td>NaN</td>\n",
       "    </tr>\n",
       "    <tr>\n",
       "      <th>3</th>\n",
       "      <td>0021700001</td>\n",
       "      <td>1.610613e+09</td>\n",
       "      <td>BOS</td>\n",
       "      <td>Boston</td>\n",
       "      <td>1626179.0</td>\n",
       "      <td>Terry Rozier</td>\n",
       "      <td></td>\n",
       "      <td></td>\n",
       "      <td>19:32</td>\n",
       "      <td>2.0</td>\n",
       "      <td>...</td>\n",
       "      <td>0.0</td>\n",
       "      <td>9.0</td>\n",
       "      <td>5.0</td>\n",
       "      <td>00217000011626179</td>\n",
       "      <td>0.0</td>\n",
       "      <td>22017</td>\n",
       "      <td>24.25</td>\n",
       "      <td>0.0</td>\n",
       "      <td>0.0</td>\n",
       "      <td>0.0</td>\n",
       "    </tr>\n",
       "    <tr>\n",
       "      <th>4</th>\n",
       "      <td>0021700001</td>\n",
       "      <td>1.610613e+09</td>\n",
       "      <td>CLE</td>\n",
       "      <td>Cleveland</td>\n",
       "      <td>1626224.0</td>\n",
       "      <td>Cedi Osman</td>\n",
       "      <td></td>\n",
       "      <td>DNP - Coach's Decision</td>\n",
       "      <td>None</td>\n",
       "      <td>NaN</td>\n",
       "      <td>...</td>\n",
       "      <td>NaN</td>\n",
       "      <td>NaN</td>\n",
       "      <td>NaN</td>\n",
       "      <td>00217000011626224</td>\n",
       "      <td>NaN</td>\n",
       "      <td>22017</td>\n",
       "      <td>NaN</td>\n",
       "      <td>0.0</td>\n",
       "      <td>0.0</td>\n",
       "      <td>NaN</td>\n",
       "    </tr>\n",
       "  </tbody>\n",
       "</table>\n",
       "<p>5 rows × 34 columns</p>\n",
       "</div>"
      ],
      "text/plain": [
       "      GAME_ID       TEAM_ID TEAM_ABBREVIATION  TEAM_CITY  PLAYER_ID  \\\n",
       "0        None           NaN              None       None        NaN   \n",
       "1  0021700001  1.610613e+09               CLE  Cleveland   101112.0   \n",
       "2  0021700001  1.610613e+09               CLE  Cleveland   101181.0   \n",
       "3  0021700001  1.610613e+09               BOS     Boston  1626179.0   \n",
       "4  0021700001  1.610613e+09               CLE  Cleveland  1626224.0   \n",
       "\n",
       "     PLAYER_NAME START_POSITION                                   COMMENT  \\\n",
       "0           None           None                                      None   \n",
       "1  Channing Frye                 DNP - Coach's Decision                     \n",
       "2  Jose Calderon                 DNP - Coach's Decision                     \n",
       "3   Terry Rozier                                                            \n",
       "4     Cedi Osman                 DNP - Coach's Decision                     \n",
       "\n",
       "     MIN  FGM  ...   PF  PTS  PLUS_MINUS                 pk  TOS  SEASON_ID  \\\n",
       "0   None  NaN  ...  NaN  NaN         NaN                     NaN      22017   \n",
       "1   None  NaN  ...  NaN  NaN         NaN   0021700001101112  NaN      22017   \n",
       "2   None  NaN  ...  NaN  NaN         NaN   0021700001101181  NaN      22017   \n",
       "3  19:32  2.0  ...  0.0  9.0         5.0  00217000011626179  0.0      22017   \n",
       "4   None  NaN  ...  NaN  NaN         NaN  00217000011626224  NaN      22017   \n",
       "\n",
       "   DK_PTS   DD   TD  doubles  \n",
       "0     NaN  0.0  0.0      NaN  \n",
       "1     NaN  0.0  0.0      NaN  \n",
       "2     NaN  0.0  0.0      NaN  \n",
       "3   24.25  0.0  0.0      0.0  \n",
       "4     NaN  0.0  0.0      NaN  \n",
       "\n",
       "[5 rows x 34 columns]"
      ]
     },
     "execution_count": 39,
     "metadata": {},
     "output_type": "execute_result"
    }
   ],
   "source": [
    "box_scores_df.shape\n",
    "box_scores_df.head()"
   ]
  },
  {
   "cell_type": "code",
   "execution_count": 40,
   "metadata": {
    "ExecuteTime": {
     "end_time": "2020-01-29T20:17:42.082656Z",
     "start_time": "2020-01-29T20:17:41.304508Z"
    }
   },
   "outputs": [],
   "source": [
    "stmt = \"\"\"SELECT * FROM nba.game_logs\"\"\"\n",
    "cursor.execute(stmt)\n",
    "game_logs = cursor.fetchall()"
   ]
  },
  {
   "cell_type": "code",
   "execution_count": 41,
   "metadata": {
    "ExecuteTime": {
     "end_time": "2020-01-29T20:17:42.818879Z",
     "start_time": "2020-01-29T20:17:42.770724Z"
    }
   },
   "outputs": [
    {
     "name": "stdout",
     "output_type": "stream",
     "text": [
      "['SEASON_ID', 'TEAM_ID', 'TEAM_ABBREVIATION', 'TEAM_NAME', 'GAME_ID', 'GAME_DATE', 'MATCHUP', 'WL', 'MIN', 'FGM', 'FGA', 'FG_PCT', 'FG3M', 'FG3A', 'FG3_PCT', 'FTM', 'FTA', 'FT_PCT', 'OREB', 'DREB', 'REB', 'AST', 'STL', 'BLK', 'TOV', 'PF', 'PTS', 'PLUS_MINUS', 'VIDEO_AVAILABLE', 'pk']\n",
      "30\n"
     ]
    }
   ],
   "source": [
    "field_names = [i[0] for i in cursor.description]\n",
    "print(field_names)\n",
    "print (len(field_names))\n",
    "game_logs_df = pd.DataFrame(game_logs, columns=field_names)"
   ]
  },
  {
   "cell_type": "code",
   "execution_count": 42,
   "metadata": {
    "ExecuteTime": {
     "end_time": "2020-01-29T20:17:45.092343Z",
     "start_time": "2020-01-29T20:17:45.087606Z"
    }
   },
   "outputs": [
    {
     "data": {
      "text/plain": [
       "Index(['SEASON_ID', 'TEAM_ID', 'TEAM_ABBREVIATION', 'TEAM_NAME', 'GAME_ID',\n",
       "       'GAME_DATE', 'MATCHUP', 'WL', 'MIN', 'FGM', 'FGA', 'FG_PCT', 'FG3M',\n",
       "       'FG3A', 'FG3_PCT', 'FTM', 'FTA', 'FT_PCT', 'OREB', 'DREB', 'REB', 'AST',\n",
       "       'STL', 'BLK', 'TOV', 'PF', 'PTS', 'PLUS_MINUS', 'VIDEO_AVAILABLE',\n",
       "       'pk'],\n",
       "      dtype='object')"
      ]
     },
     "execution_count": 42,
     "metadata": {},
     "output_type": "execute_result"
    }
   ],
   "source": [
    "game_logs_df.columns"
   ]
  },
  {
   "cell_type": "code",
   "execution_count": 43,
   "metadata": {
    "ExecuteTime": {
     "end_time": "2020-01-29T20:17:45.878785Z",
     "start_time": "2020-01-29T20:17:45.857463Z"
    }
   },
   "outputs": [
    {
     "name": "stdout",
     "output_type": "stream",
     "text": [
      "<class 'pandas.core.frame.DataFrame'>\n",
      "RangeIndex: 6224 entries, 0 to 6223\n",
      "Data columns (total 30 columns):\n",
      "SEASON_ID            6224 non-null object\n",
      "TEAM_ID              6224 non-null int64\n",
      "TEAM_ABBREVIATION    6224 non-null object\n",
      "TEAM_NAME            6224 non-null object\n",
      "GAME_ID              6224 non-null object\n",
      "GAME_DATE            6224 non-null object\n",
      "MATCHUP              6224 non-null object\n",
      "WL                   6224 non-null object\n",
      "MIN                  6224 non-null int64\n",
      "FGM                  6224 non-null int64\n",
      "FGA                  6224 non-null int64\n",
      "FG_PCT               6224 non-null float64\n",
      "FG3M                 6224 non-null int64\n",
      "FG3A                 6224 non-null int64\n",
      "FG3_PCT              6224 non-null float64\n",
      "FTM                  6224 non-null int64\n",
      "FTA                  6224 non-null int64\n",
      "FT_PCT               6224 non-null float64\n",
      "OREB                 6224 non-null int64\n",
      "DREB                 6224 non-null int64\n",
      "REB                  6224 non-null int64\n",
      "AST                  6224 non-null int64\n",
      "STL                  6224 non-null int64\n",
      "BLK                  6224 non-null int64\n",
      "TOV                  6224 non-null int64\n",
      "PF                   6224 non-null int64\n",
      "PTS                  6224 non-null int64\n",
      "PLUS_MINUS           6224 non-null int64\n",
      "VIDEO_AVAILABLE      6224 non-null int64\n",
      "pk                   6224 non-null object\n",
      "dtypes: float64(3), int64(19), object(8)\n",
      "memory usage: 1.4+ MB\n"
     ]
    }
   ],
   "source": [
    "game_logs_df.info()"
   ]
  },
  {
   "cell_type": "markdown",
   "metadata": {
    "ExecuteTime": {
     "end_time": "2020-01-29T19:37:45.329551Z",
     "start_time": "2020-01-29T19:37:45.326461Z"
    }
   },
   "source": [
    "### Append opponent statistics to each observation in box_scores"
   ]
  },
  {
   "cell_type": "code",
   "execution_count": 44,
   "metadata": {
    "ExecuteTime": {
     "end_time": "2020-01-29T20:22:05.879249Z",
     "start_time": "2020-01-29T20:17:49.408836Z"
    }
   },
   "outputs": [],
   "source": [
    "#### For each season, for every team, sort the schedule chronologically\n",
    "#### Then for each game_id for each team in a season, \n",
    "#### find the opponents stat line from that game,\n",
    "#### rename the columns for the opponent stats,\n",
    "#### and create one row using each team's and their opponent's stats for each game\n",
    "\n",
    "games = []\n",
    "for season in set(game_logs_df['SEASON_ID']):\n",
    "    for team in set(game_logs_df['TEAM_ID']):\n",
    "        sched = game_logs_df[(game_logs_df['SEASON_ID']==season) & (game_logs_df['TEAM_ID']==team)]\n",
    "        sched = sched.sort_values(by=['GAME_ID'])\n",
    "        for game in set(sched['GAME_ID']):\n",
    "            one_game = sched[sched['GAME_ID']==game]\n",
    "            one_game.reset_index(inplace=True, drop=True)\n",
    "            #### Find opponent's stat line for the same game\n",
    "            opp = game_logs_df[(game_logs_df['GAME_ID']== game) & \n",
    "             (game_logs_df['TEAM_ABBREVIATION'] != str(sched.loc[:,'TEAM_ABBREVIATION'].values[0]))]\n",
    "            opp.reset_index(inplace=True, drop=True)\n",
    "            opp_cols = ['OPP_'+ col for col in opp.columns] \n",
    "            opp.columns = opp_cols\n",
    "            #### Combine opponent stats and team stats for a game into one row\n",
    "            comb = pd.concat([one_game,opp], axis=1)\n",
    "            games.append(comb)\n"
   ]
  },
  {
   "cell_type": "markdown",
   "metadata": {},
   "source": [
    "#### Combine all rows into a single dataframe"
   ]
  },
  {
   "cell_type": "code",
   "execution_count": 45,
   "metadata": {
    "ExecuteTime": {
     "end_time": "2020-01-29T20:22:56.703111Z",
     "start_time": "2020-01-29T20:22:17.405356Z"
    }
   },
   "outputs": [],
   "source": [
    "games_with_opp = pd.concat(games)\n",
    "games_with_opp.reset_index(inplace=True, drop=True)"
   ]
  },
  {
   "cell_type": "code",
   "execution_count": 46,
   "metadata": {
    "ExecuteTime": {
     "end_time": "2020-01-29T20:23:25.522030Z",
     "start_time": "2020-01-29T20:23:25.494327Z"
    }
   },
   "outputs": [
    {
     "data": {
      "text/html": [
       "<div>\n",
       "<style scoped>\n",
       "    .dataframe tbody tr th:only-of-type {\n",
       "        vertical-align: middle;\n",
       "    }\n",
       "\n",
       "    .dataframe tbody tr th {\n",
       "        vertical-align: top;\n",
       "    }\n",
       "\n",
       "    .dataframe thead th {\n",
       "        text-align: right;\n",
       "    }\n",
       "</style>\n",
       "<table border=\"1\" class=\"dataframe\">\n",
       "  <thead>\n",
       "    <tr style=\"text-align: right;\">\n",
       "      <th></th>\n",
       "      <th>SEASON_ID</th>\n",
       "      <th>TEAM_ID</th>\n",
       "      <th>TEAM_ABBREVIATION</th>\n",
       "      <th>TEAM_NAME</th>\n",
       "      <th>GAME_ID</th>\n",
       "      <th>GAME_DATE</th>\n",
       "      <th>MATCHUP</th>\n",
       "      <th>WL</th>\n",
       "      <th>MIN</th>\n",
       "      <th>FGM</th>\n",
       "      <th>...</th>\n",
       "      <th>OPP_REB</th>\n",
       "      <th>OPP_AST</th>\n",
       "      <th>OPP_STL</th>\n",
       "      <th>OPP_BLK</th>\n",
       "      <th>OPP_TOV</th>\n",
       "      <th>OPP_PF</th>\n",
       "      <th>OPP_PTS</th>\n",
       "      <th>OPP_PLUS_MINUS</th>\n",
       "      <th>OPP_VIDEO_AVAILABLE</th>\n",
       "      <th>OPP_pk</th>\n",
       "    </tr>\n",
       "  </thead>\n",
       "  <tbody>\n",
       "    <tr>\n",
       "      <th>0</th>\n",
       "      <td>22017</td>\n",
       "      <td>1610612737</td>\n",
       "      <td>ATL</td>\n",
       "      <td>Atlanta Hawks</td>\n",
       "      <td>0021701021</td>\n",
       "      <td>2018-03-15</td>\n",
       "      <td>ATL vs. CHA</td>\n",
       "      <td>L</td>\n",
       "      <td>240</td>\n",
       "      <td>42</td>\n",
       "      <td>...</td>\n",
       "      <td>45</td>\n",
       "      <td>30</td>\n",
       "      <td>3</td>\n",
       "      <td>3</td>\n",
       "      <td>10</td>\n",
       "      <td>21</td>\n",
       "      <td>129</td>\n",
       "      <td>12</td>\n",
       "      <td>1</td>\n",
       "      <td>0021701021CHA</td>\n",
       "    </tr>\n",
       "    <tr>\n",
       "      <th>1</th>\n",
       "      <td>22017</td>\n",
       "      <td>1610612737</td>\n",
       "      <td>ATL</td>\n",
       "      <td>Atlanta Hawks</td>\n",
       "      <td>0021700739</td>\n",
       "      <td>2018-01-29</td>\n",
       "      <td>ATL vs. MIN</td>\n",
       "      <td>W</td>\n",
       "      <td>240</td>\n",
       "      <td>39</td>\n",
       "      <td>...</td>\n",
       "      <td>35</td>\n",
       "      <td>24</td>\n",
       "      <td>15</td>\n",
       "      <td>5</td>\n",
       "      <td>14</td>\n",
       "      <td>18</td>\n",
       "      <td>100</td>\n",
       "      <td>-5</td>\n",
       "      <td>1</td>\n",
       "      <td>0021700739MIN</td>\n",
       "    </tr>\n",
       "    <tr>\n",
       "      <th>2</th>\n",
       "      <td>22017</td>\n",
       "      <td>1610612737</td>\n",
       "      <td>ATL</td>\n",
       "      <td>Atlanta Hawks</td>\n",
       "      <td>0021700390</td>\n",
       "      <td>2017-12-10</td>\n",
       "      <td>ATL @ NYK</td>\n",
       "      <td>L</td>\n",
       "      <td>240</td>\n",
       "      <td>37</td>\n",
       "      <td>...</td>\n",
       "      <td>33</td>\n",
       "      <td>16</td>\n",
       "      <td>9</td>\n",
       "      <td>4</td>\n",
       "      <td>12</td>\n",
       "      <td>30</td>\n",
       "      <td>111</td>\n",
       "      <td>4</td>\n",
       "      <td>1</td>\n",
       "      <td>0021700390NYK</td>\n",
       "    </tr>\n",
       "    <tr>\n",
       "      <th>3</th>\n",
       "      <td>22017</td>\n",
       "      <td>1610612737</td>\n",
       "      <td>ATL</td>\n",
       "      <td>Atlanta Hawks</td>\n",
       "      <td>0021700038</td>\n",
       "      <td>2017-10-22</td>\n",
       "      <td>ATL @ BKN</td>\n",
       "      <td>L</td>\n",
       "      <td>240</td>\n",
       "      <td>32</td>\n",
       "      <td>...</td>\n",
       "      <td>51</td>\n",
       "      <td>27</td>\n",
       "      <td>12</td>\n",
       "      <td>8</td>\n",
       "      <td>18</td>\n",
       "      <td>27</td>\n",
       "      <td>116</td>\n",
       "      <td>12</td>\n",
       "      <td>1</td>\n",
       "      <td>0021700038BKN</td>\n",
       "    </tr>\n",
       "    <tr>\n",
       "      <th>4</th>\n",
       "      <td>22017</td>\n",
       "      <td>1610612737</td>\n",
       "      <td>ATL</td>\n",
       "      <td>Atlanta Hawks</td>\n",
       "      <td>0021700811</td>\n",
       "      <td>2018-02-08</td>\n",
       "      <td>ATL @ ORL</td>\n",
       "      <td>L</td>\n",
       "      <td>240</td>\n",
       "      <td>37</td>\n",
       "      <td>...</td>\n",
       "      <td>36</td>\n",
       "      <td>20</td>\n",
       "      <td>10</td>\n",
       "      <td>6</td>\n",
       "      <td>13</td>\n",
       "      <td>22</td>\n",
       "      <td>100</td>\n",
       "      <td>2</td>\n",
       "      <td>1</td>\n",
       "      <td>0021700811ORL</td>\n",
       "    </tr>\n",
       "  </tbody>\n",
       "</table>\n",
       "<p>5 rows × 60 columns</p>\n",
       "</div>"
      ],
      "text/plain": [
       "  SEASON_ID     TEAM_ID TEAM_ABBREVIATION      TEAM_NAME     GAME_ID  \\\n",
       "0     22017  1610612737               ATL  Atlanta Hawks  0021701021   \n",
       "1     22017  1610612737               ATL  Atlanta Hawks  0021700739   \n",
       "2     22017  1610612737               ATL  Atlanta Hawks  0021700390   \n",
       "3     22017  1610612737               ATL  Atlanta Hawks  0021700038   \n",
       "4     22017  1610612737               ATL  Atlanta Hawks  0021700811   \n",
       "\n",
       "    GAME_DATE      MATCHUP WL  MIN  FGM  ...  OPP_REB  OPP_AST  OPP_STL  \\\n",
       "0  2018-03-15  ATL vs. CHA  L  240   42  ...       45       30        3   \n",
       "1  2018-01-29  ATL vs. MIN  W  240   39  ...       35       24       15   \n",
       "2  2017-12-10    ATL @ NYK  L  240   37  ...       33       16        9   \n",
       "3  2017-10-22    ATL @ BKN  L  240   32  ...       51       27       12   \n",
       "4  2018-02-08    ATL @ ORL  L  240   37  ...       36       20       10   \n",
       "\n",
       "   OPP_BLK  OPP_TOV  OPP_PF  OPP_PTS  OPP_PLUS_MINUS  OPP_VIDEO_AVAILABLE  \\\n",
       "0        3       10      21      129              12                    1   \n",
       "1        5       14      18      100              -5                    1   \n",
       "2        4       12      30      111               4                    1   \n",
       "3        8       18      27      116              12                    1   \n",
       "4        6       13      22      100               2                    1   \n",
       "\n",
       "          OPP_pk  \n",
       "0  0021701021CHA  \n",
       "1  0021700739MIN  \n",
       "2  0021700390NYK  \n",
       "3  0021700038BKN  \n",
       "4  0021700811ORL  \n",
       "\n",
       "[5 rows x 60 columns]"
      ]
     },
     "execution_count": 46,
     "metadata": {},
     "output_type": "execute_result"
    }
   ],
   "source": [
    "games_with_opp.head()"
   ]
  },
  {
   "cell_type": "markdown",
   "metadata": {
    "ExecuteTime": {
     "end_time": "2020-01-29T20:01:46.053374Z",
     "start_time": "2020-01-29T20:01:46.045363Z"
    }
   },
   "source": [
    "#### Calculate rolling opponent stats lagged one game to analyze impact of opponent"
   ]
  },
  {
   "cell_type": "code",
   "execution_count": 47,
   "metadata": {
    "ExecuteTime": {
     "end_time": "2020-01-29T20:23:29.685445Z",
     "start_time": "2020-01-29T20:23:28.718048Z"
    }
   },
   "outputs": [],
   "source": [
    "teams = []\n",
    "for season in set(games_with_opp['SEASON_ID']):\n",
    "    for team in set(games_with_opp['TEAM_ID']):\n",
    "        sched = games_with_opp[(games_with_opp['SEASON_ID']==season) & (games_with_opp['TEAM_ID']==team)]\n",
    "        sched = sched.sort_values(by=['GAME_ID'])\n",
    "        sched['OPP_DK_PTS'] = sched['OPP_PTS'] + sched['OPP_FG3M']*.5 + sched['OPP_REB']*1.25 + sched['OPP_AST']*1.5 + sched['OPP_STL']* 2 + sched['OPP_BLK']*2 -sched['OPP_TOV']*.5\n",
    "        sched['OPP_DK_PTS_TRAIL3']= sched['OPP_DK_PTS'].shift(1).rolling(3).mean()\n",
    "        sched['OPP_TEAM_PTS_TRAIL3'] = sched['OPP_PTS'].shift(1).rolling(3).mean()\n",
    "        sched['OPP_TEAM_PTS_TRAIL7'] = sched['OPP_PTS'].shift(1).rolling(7).mean()\n",
    "        teams.append(sched)\n",
    "        "
   ]
  },
  {
   "cell_type": "code",
   "execution_count": 48,
   "metadata": {
    "ExecuteTime": {
     "end_time": "2020-01-29T20:23:33.955976Z",
     "start_time": "2020-01-29T20:23:33.579527Z"
    }
   },
   "outputs": [],
   "source": [
    "all_teams = pd.concat(teams)"
   ]
  },
  {
   "cell_type": "code",
   "execution_count": 49,
   "metadata": {
    "ExecuteTime": {
     "end_time": "2020-01-29T20:23:35.026335Z",
     "start_time": "2020-01-29T20:23:35.021388Z"
    }
   },
   "outputs": [
    {
     "data": {
      "text/plain": [
       "((6224, 64), (6224, 30))"
      ]
     },
     "execution_count": 49,
     "metadata": {},
     "output_type": "execute_result"
    }
   ],
   "source": [
    "all_teams.shape, game_logs_df.shape"
   ]
  },
  {
   "cell_type": "markdown",
   "metadata": {
    "ExecuteTime": {
     "end_time": "2020-01-29T20:03:22.973247Z",
     "start_time": "2020-01-29T20:03:22.970399Z"
    }
   },
   "source": [
    "### Create column for opponent"
   ]
  },
  {
   "cell_type": "markdown",
   "metadata": {
    "ExecuteTime": {
     "end_time": "2020-01-29T20:03:44.854732Z",
     "start_time": "2020-01-29T20:03:44.851851Z"
    }
   },
   "source": [
    "#### Define function to find opponent from matchup columns"
   ]
  },
  {
   "cell_type": "code",
   "execution_count": 50,
   "metadata": {
    "ExecuteTime": {
     "end_time": "2020-01-29T20:24:11.101186Z",
     "start_time": "2020-01-29T20:24:11.096824Z"
    }
   },
   "outputs": [],
   "source": [
    "def split_matchup(x):\n",
    "    if '@' in x:\n",
    "        return x[x.index('@')+1:].strip()\n",
    "    else:\n",
    "        return x[x.index('.')+1:].strip()"
   ]
  },
  {
   "cell_type": "code",
   "execution_count": 51,
   "metadata": {
    "ExecuteTime": {
     "end_time": "2020-01-29T20:24:11.876722Z",
     "start_time": "2020-01-29T20:24:11.864806Z"
    }
   },
   "outputs": [],
   "source": [
    "\n",
    "all_teams['OPP'] = all_teams['MATCHUP'].apply(lambda x: split_matchup(x))"
   ]
  },
  {
   "cell_type": "code",
   "execution_count": 52,
   "metadata": {
    "ExecuteTime": {
     "end_time": "2020-01-29T20:24:12.710867Z",
     "start_time": "2020-01-29T20:24:12.658801Z"
    }
   },
   "outputs": [
    {
     "data": {
      "text/html": [
       "<div>\n",
       "<style scoped>\n",
       "    .dataframe tbody tr th:only-of-type {\n",
       "        vertical-align: middle;\n",
       "    }\n",
       "\n",
       "    .dataframe tbody tr th {\n",
       "        vertical-align: top;\n",
       "    }\n",
       "\n",
       "    .dataframe thead th {\n",
       "        text-align: right;\n",
       "    }\n",
       "</style>\n",
       "<table border=\"1\" class=\"dataframe\">\n",
       "  <thead>\n",
       "    <tr style=\"text-align: right;\">\n",
       "      <th></th>\n",
       "      <th>SEASON_ID</th>\n",
       "      <th>TEAM_ID</th>\n",
       "      <th>TEAM_ABBREVIATION</th>\n",
       "      <th>TEAM_NAME</th>\n",
       "      <th>GAME_ID</th>\n",
       "      <th>GAME_DATE</th>\n",
       "      <th>MATCHUP</th>\n",
       "      <th>WL</th>\n",
       "      <th>MIN</th>\n",
       "      <th>FGM</th>\n",
       "      <th>...</th>\n",
       "      <th>OPP_PF</th>\n",
       "      <th>OPP_PTS</th>\n",
       "      <th>OPP_PLUS_MINUS</th>\n",
       "      <th>OPP_VIDEO_AVAILABLE</th>\n",
       "      <th>OPP_pk</th>\n",
       "      <th>OPP_DK_PTS</th>\n",
       "      <th>OPP_DK_PTS_TRAIL3</th>\n",
       "      <th>OPP_TEAM_PTS_TRAIL3</th>\n",
       "      <th>OPP_TEAM_PTS_TRAIL7</th>\n",
       "      <th>OPP</th>\n",
       "    </tr>\n",
       "  </thead>\n",
       "  <tbody>\n",
       "    <tr>\n",
       "      <th>71</th>\n",
       "      <td>22017</td>\n",
       "      <td>1610612737</td>\n",
       "      <td>ATL</td>\n",
       "      <td>Atlanta Hawks</td>\n",
       "      <td>0021700009</td>\n",
       "      <td>2017-10-18</td>\n",
       "      <td>ATL @ DAL</td>\n",
       "      <td>W</td>\n",
       "      <td>240</td>\n",
       "      <td>48</td>\n",
       "      <td>...</td>\n",
       "      <td>19</td>\n",
       "      <td>111</td>\n",
       "      <td>-6</td>\n",
       "      <td>1</td>\n",
       "      <td>0021700009DAL</td>\n",
       "      <td>221.25</td>\n",
       "      <td>NaN</td>\n",
       "      <td>NaN</td>\n",
       "      <td>NaN</td>\n",
       "      <td>DAL</td>\n",
       "    </tr>\n",
       "    <tr>\n",
       "      <th>49</th>\n",
       "      <td>22017</td>\n",
       "      <td>1610612737</td>\n",
       "      <td>ATL</td>\n",
       "      <td>Atlanta Hawks</td>\n",
       "      <td>0021700017</td>\n",
       "      <td>2017-10-20</td>\n",
       "      <td>ATL @ CHA</td>\n",
       "      <td>L</td>\n",
       "      <td>240</td>\n",
       "      <td>36</td>\n",
       "      <td>...</td>\n",
       "      <td>18</td>\n",
       "      <td>109</td>\n",
       "      <td>18</td>\n",
       "      <td>1</td>\n",
       "      <td>0021700017CHA</td>\n",
       "      <td>218.75</td>\n",
       "      <td>NaN</td>\n",
       "      <td>NaN</td>\n",
       "      <td>NaN</td>\n",
       "      <td>CHA</td>\n",
       "    </tr>\n",
       "    <tr>\n",
       "      <th>3</th>\n",
       "      <td>22017</td>\n",
       "      <td>1610612737</td>\n",
       "      <td>ATL</td>\n",
       "      <td>Atlanta Hawks</td>\n",
       "      <td>0021700038</td>\n",
       "      <td>2017-10-22</td>\n",
       "      <td>ATL @ BKN</td>\n",
       "      <td>L</td>\n",
       "      <td>240</td>\n",
       "      <td>32</td>\n",
       "      <td>...</td>\n",
       "      <td>27</td>\n",
       "      <td>116</td>\n",
       "      <td>12</td>\n",
       "      <td>1</td>\n",
       "      <td>0021700038BKN</td>\n",
       "      <td>256.75</td>\n",
       "      <td>NaN</td>\n",
       "      <td>NaN</td>\n",
       "      <td>NaN</td>\n",
       "      <td>BKN</td>\n",
       "    </tr>\n",
       "    <tr>\n",
       "      <th>64</th>\n",
       "      <td>22017</td>\n",
       "      <td>1610612737</td>\n",
       "      <td>ATL</td>\n",
       "      <td>Atlanta Hawks</td>\n",
       "      <td>0021700042</td>\n",
       "      <td>2017-10-23</td>\n",
       "      <td>ATL @ MIA</td>\n",
       "      <td>L</td>\n",
       "      <td>240</td>\n",
       "      <td>36</td>\n",
       "      <td>...</td>\n",
       "      <td>19</td>\n",
       "      <td>104</td>\n",
       "      <td>11</td>\n",
       "      <td>1</td>\n",
       "      <td>0021700042MIA</td>\n",
       "      <td>220.25</td>\n",
       "      <td>232.250000</td>\n",
       "      <td>112.000000</td>\n",
       "      <td>NaN</td>\n",
       "      <td>MIA</td>\n",
       "    </tr>\n",
       "    <tr>\n",
       "      <th>48</th>\n",
       "      <td>22017</td>\n",
       "      <td>1610612737</td>\n",
       "      <td>ATL</td>\n",
       "      <td>Atlanta Hawks</td>\n",
       "      <td>0021700065</td>\n",
       "      <td>2017-10-26</td>\n",
       "      <td>ATL @ CHI</td>\n",
       "      <td>L</td>\n",
       "      <td>240</td>\n",
       "      <td>32</td>\n",
       "      <td>...</td>\n",
       "      <td>15</td>\n",
       "      <td>91</td>\n",
       "      <td>5</td>\n",
       "      <td>1</td>\n",
       "      <td>0021700065CHI</td>\n",
       "      <td>212.00</td>\n",
       "      <td>231.916667</td>\n",
       "      <td>109.666667</td>\n",
       "      <td>NaN</td>\n",
       "      <td>CHI</td>\n",
       "    </tr>\n",
       "  </tbody>\n",
       "</table>\n",
       "<p>5 rows × 65 columns</p>\n",
       "</div>"
      ],
      "text/plain": [
       "   SEASON_ID     TEAM_ID TEAM_ABBREVIATION      TEAM_NAME     GAME_ID  \\\n",
       "71     22017  1610612737               ATL  Atlanta Hawks  0021700009   \n",
       "49     22017  1610612737               ATL  Atlanta Hawks  0021700017   \n",
       "3      22017  1610612737               ATL  Atlanta Hawks  0021700038   \n",
       "64     22017  1610612737               ATL  Atlanta Hawks  0021700042   \n",
       "48     22017  1610612737               ATL  Atlanta Hawks  0021700065   \n",
       "\n",
       "     GAME_DATE    MATCHUP WL  MIN  FGM  ...  OPP_PF  OPP_PTS  OPP_PLUS_MINUS  \\\n",
       "71  2017-10-18  ATL @ DAL  W  240   48  ...      19      111              -6   \n",
       "49  2017-10-20  ATL @ CHA  L  240   36  ...      18      109              18   \n",
       "3   2017-10-22  ATL @ BKN  L  240   32  ...      27      116              12   \n",
       "64  2017-10-23  ATL @ MIA  L  240   36  ...      19      104              11   \n",
       "48  2017-10-26  ATL @ CHI  L  240   32  ...      15       91               5   \n",
       "\n",
       "    OPP_VIDEO_AVAILABLE         OPP_pk  OPP_DK_PTS  OPP_DK_PTS_TRAIL3  \\\n",
       "71                    1  0021700009DAL      221.25                NaN   \n",
       "49                    1  0021700017CHA      218.75                NaN   \n",
       "3                     1  0021700038BKN      256.75                NaN   \n",
       "64                    1  0021700042MIA      220.25         232.250000   \n",
       "48                    1  0021700065CHI      212.00         231.916667   \n",
       "\n",
       "    OPP_TEAM_PTS_TRAIL3  OPP_TEAM_PTS_TRAIL7  OPP  \n",
       "71                  NaN                  NaN  DAL  \n",
       "49                  NaN                  NaN  CHA  \n",
       "3                   NaN                  NaN  BKN  \n",
       "64           112.000000                  NaN  MIA  \n",
       "48           109.666667                  NaN  CHI  \n",
       "\n",
       "[5 rows x 65 columns]"
      ]
     },
     "execution_count": 52,
     "metadata": {},
     "output_type": "execute_result"
    }
   ],
   "source": [
    "all_teams.head()"
   ]
  },
  {
   "cell_type": "markdown",
   "metadata": {
    "ExecuteTime": {
     "end_time": "2020-01-29T20:02:56.041075Z",
     "start_time": "2020-01-29T20:02:56.038261Z"
    }
   },
   "source": [
    "### Create function to generate rolling averages, shifted one game"
   ]
  },
  {
   "cell_type": "code",
   "execution_count": 53,
   "metadata": {
    "ExecuteTime": {
     "end_time": "2020-01-29T20:24:15.136735Z",
     "start_time": "2020-01-29T20:24:15.130228Z"
    }
   },
   "outputs": [],
   "source": [
    "import numpy as np\n",
    "# Get average from last trail_len\n",
    "def get_trailing_avg(df, col_name, trail_len):\n",
    "    df.reset_index(inplace=True, drop=True)\n",
    "    new_col = col_name + '_TRAIL' + str(trail_len)\n",
    "    df[new_col] = None\n",
    "    for i in range(0, trail_len):\n",
    "        df.at[i, new_col] = 'game' + str(i + 1)\n",
    "    for index in range(trail_len, len(df)):\n",
    "        df.at[index, new_col] = np.mean(df.loc[index-trail_len:index-1, col_name])\n",
    "\n"
   ]
  },
  {
   "cell_type": "code",
   "execution_count": 54,
   "metadata": {
    "ExecuteTime": {
     "end_time": "2020-01-29T20:24:15.940011Z",
     "start_time": "2020-01-29T20:24:15.936969Z"
    }
   },
   "outputs": [],
   "source": [
    "box_scores_df.reset_index(inplace=True, drop=True)"
   ]
  },
  {
   "cell_type": "code",
   "execution_count": 55,
   "metadata": {
    "ExecuteTime": {
     "end_time": "2020-01-29T20:24:16.621939Z",
     "start_time": "2020-01-29T20:24:16.617040Z"
    }
   },
   "outputs": [
    {
     "data": {
      "text/plain": [
       "Index(['GAME_ID', 'TEAM_ID', 'TEAM_ABBREVIATION', 'TEAM_CITY', 'PLAYER_ID',\n",
       "       'PLAYER_NAME', 'START_POSITION', 'COMMENT', 'MIN', 'FGM', 'FGA',\n",
       "       'FG_PCT', 'FG3M', 'FG3A', 'FG3_PCT', 'FTM', 'FTA', 'FT_PCT', 'OREB',\n",
       "       'DREB', 'REB', 'AST', 'STL', 'BLK', 'PF', 'PTS', 'PLUS_MINUS', 'pk',\n",
       "       'TOS', 'SEASON_ID', 'DK_PTS', 'DD', 'TD', 'doubles'],\n",
       "      dtype='object')"
      ]
     },
     "execution_count": 55,
     "metadata": {},
     "output_type": "execute_result"
    }
   ],
   "source": [
    "box_scores_df.columns"
   ]
  },
  {
   "cell_type": "markdown",
   "metadata": {
    "ExecuteTime": {
     "end_time": "2020-01-29T20:05:07.530250Z",
     "start_time": "2020-01-29T20:05:07.527408Z"
    }
   },
   "source": [
    "### Use function to calculate trailing averages for game stats"
   ]
  },
  {
   "cell_type": "code",
   "execution_count": 56,
   "metadata": {
    "ExecuteTime": {
     "end_time": "2020-01-29T20:54:13.282128Z",
     "start_time": "2020-01-29T20:24:18.009145Z"
    }
   },
   "outputs": [],
   "source": [
    "boxes = []\n",
    "for season in set(box_scores_df['SEASON_ID']):\n",
    "    for player in set(box_scores_df['PLAYER_ID']):\n",
    "        game = box_scores_df[(box_scores_df['SEASON_ID']==season) & (box_scores_df['PLAYER_ID']==player)]\n",
    "        game = game.sort_values(by=['GAME_ID'])\n",
    "        \n",
    "        get_trailing_avg(game,'FGM', 3)\n",
    "        get_trailing_avg(game,'FGA', 3)\n",
    "        get_trailing_avg(game,'FG_PCT', 3)\n",
    "        get_trailing_avg(game,'FG3M', 3)\n",
    "        get_trailing_avg(game,'FG3A', 3)\n",
    "        get_trailing_avg(game,'FG3_PCT', 3)\n",
    "        get_trailing_avg(game,'FTM', 3)\n",
    "        get_trailing_avg(game,'FTA', 3)\n",
    "        get_trailing_avg(game,'FT_PCT', 3)\n",
    "        get_trailing_avg(game,'OREB', 3)\n",
    "        get_trailing_avg(game,'DREB', 3)\n",
    "        get_trailing_avg(game,'REB', 3)\n",
    "        get_trailing_avg(game,'AST', 3)\n",
    "        get_trailing_avg(game,'STL', 3)\n",
    "        get_trailing_avg(game,'BLK', 3) \n",
    "        get_trailing_avg(game,'PTS', 3) \n",
    "        get_trailing_avg(game,'TOS', 3)\n",
    "        get_trailing_avg(game,'doubles', 3)\n",
    "        boxes.append(game)"
   ]
  },
  {
   "cell_type": "code",
   "execution_count": 57,
   "metadata": {
    "ExecuteTime": {
     "end_time": "2020-01-29T20:54:31.345375Z",
     "start_time": "2020-01-29T20:54:22.652040Z"
    }
   },
   "outputs": [],
   "source": [
    "box_all = pd.concat(boxes)"
   ]
  },
  {
   "cell_type": "code",
   "execution_count": 58,
   "metadata": {
    "ExecuteTime": {
     "end_time": "2020-01-29T20:54:33.862702Z",
     "start_time": "2020-01-29T20:54:33.856866Z"
    }
   },
   "outputs": [
    {
     "data": {
      "text/plain": [
       "(82289, 52)"
      ]
     },
     "execution_count": 58,
     "metadata": {},
     "output_type": "execute_result"
    }
   ],
   "source": [
    "box_all.shape"
   ]
  },
  {
   "cell_type": "markdown",
   "metadata": {
    "ExecuteTime": {
     "end_time": "2020-01-29T20:07:38.786716Z",
     "start_time": "2020-01-29T20:07:38.784049Z"
    }
   },
   "source": [
    "### Combine Box Scores with trailing stats with opponent stats"
   ]
  },
  {
   "cell_type": "code",
   "execution_count": 59,
   "metadata": {
    "ExecuteTime": {
     "end_time": "2020-01-29T20:55:10.506740Z",
     "start_time": "2020-01-29T20:55:10.501144Z"
    },
    "scrolled": true
   },
   "outputs": [
    {
     "data": {
      "text/plain": [
       "Index(['GAME_ID', 'TEAM_ID', 'TEAM_ABBREVIATION', 'TEAM_CITY', 'PLAYER_ID',\n",
       "       'PLAYER_NAME', 'START_POSITION', 'COMMENT', 'MIN', 'FGM', 'FGA',\n",
       "       'FG_PCT', 'FG3M', 'FG3A', 'FG3_PCT', 'FTM', 'FTA', 'FT_PCT', 'OREB',\n",
       "       'DREB', 'REB', 'AST', 'STL', 'BLK', 'PF', 'PTS', 'PLUS_MINUS', 'pk',\n",
       "       'TOS', 'SEASON_ID', 'DK_PTS', 'DD', 'TD', 'doubles', 'FGM_TRAIL3',\n",
       "       'FGA_TRAIL3', 'FG_PCT_TRAIL3', 'FG3M_TRAIL3', 'FG3A_TRAIL3',\n",
       "       'FG3_PCT_TRAIL3', 'FTM_TRAIL3', 'FTA_TRAIL3', 'FT_PCT_TRAIL3',\n",
       "       'OREB_TRAIL3', 'DREB_TRAIL3', 'REB_TRAIL3', 'AST_TRAIL3', 'STL_TRAIL3',\n",
       "       'BLK_TRAIL3', 'PTS_TRAIL3', 'TOS_TRAIL3', 'doubles_TRAIL3'],\n",
       "      dtype='object')"
      ]
     },
     "execution_count": 59,
     "metadata": {},
     "output_type": "execute_result"
    }
   ],
   "source": [
    "box_all.columns"
   ]
  },
  {
   "cell_type": "code",
   "execution_count": 60,
   "metadata": {
    "ExecuteTime": {
     "end_time": "2020-01-29T20:55:12.723106Z",
     "start_time": "2020-01-29T20:55:12.717673Z"
    }
   },
   "outputs": [
    {
     "data": {
      "text/plain": [
       "Index(['SEASON_ID', 'TEAM_ID', 'TEAM_ABBREVIATION', 'TEAM_NAME', 'GAME_ID',\n",
       "       'GAME_DATE', 'MATCHUP', 'WL', 'MIN', 'FGM', 'FGA', 'FG_PCT', 'FG3M',\n",
       "       'FG3A', 'FG3_PCT', 'FTM', 'FTA', 'FT_PCT', 'OREB', 'DREB', 'REB', 'AST',\n",
       "       'STL', 'BLK', 'TOV', 'PF', 'PTS', 'PLUS_MINUS', 'VIDEO_AVAILABLE', 'pk',\n",
       "       'OPP_SEASON_ID', 'OPP_TEAM_ID', 'OPP_TEAM_ABBREVIATION',\n",
       "       'OPP_TEAM_NAME', 'OPP_GAME_ID', 'OPP_GAME_DATE', 'OPP_MATCHUP',\n",
       "       'OPP_WL', 'OPP_MIN', 'OPP_FGM', 'OPP_FGA', 'OPP_FG_PCT', 'OPP_FG3M',\n",
       "       'OPP_FG3A', 'OPP_FG3_PCT', 'OPP_FTM', 'OPP_FTA', 'OPP_FT_PCT',\n",
       "       'OPP_OREB', 'OPP_DREB', 'OPP_REB', 'OPP_AST', 'OPP_STL', 'OPP_BLK',\n",
       "       'OPP_TOV', 'OPP_PF', 'OPP_PTS', 'OPP_PLUS_MINUS', 'OPP_VIDEO_AVAILABLE',\n",
       "       'OPP_pk', 'OPP_DK_PTS', 'OPP_DK_PTS_TRAIL3', 'OPP_TEAM_PTS_TRAIL3',\n",
       "       'OPP_TEAM_PTS_TRAIL7', 'OPP'],\n",
       "      dtype='object')"
      ]
     },
     "execution_count": 60,
     "metadata": {},
     "output_type": "execute_result"
    }
   ],
   "source": [
    "all_teams.columns"
   ]
  },
  {
   "cell_type": "markdown",
   "metadata": {
    "ExecuteTime": {
     "end_time": "2020-01-29T20:07:52.380300Z",
     "start_time": "2020-01-29T20:07:52.377219Z"
    }
   },
   "source": [
    "#### Merge dataframes"
   ]
  },
  {
   "cell_type": "code",
   "execution_count": 61,
   "metadata": {
    "ExecuteTime": {
     "end_time": "2020-01-29T20:55:19.304206Z",
     "start_time": "2020-01-29T20:55:18.636911Z"
    }
   },
   "outputs": [],
   "source": [
    "# df1.merge(df2.rename(columns={'b':'a'}),how='outer')\n",
    "df_master =pd.merge(box_all,all_teams, how='left',left_on=['GAME_ID'], right_on=['GAME_ID'])"
   ]
  },
  {
   "cell_type": "code",
   "execution_count": 62,
   "metadata": {
    "ExecuteTime": {
     "end_time": "2020-01-29T20:55:21.392974Z",
     "start_time": "2020-01-29T20:55:20.076930Z"
    }
   },
   "outputs": [],
   "source": [
    "df_master.dropna(inplace=True)"
   ]
  },
  {
   "cell_type": "code",
   "execution_count": 63,
   "metadata": {
    "ExecuteTime": {
     "end_time": "2020-01-29T20:55:21.488156Z",
     "start_time": "2020-01-29T20:55:21.395693Z"
    }
   },
   "outputs": [
    {
     "data": {
      "text/html": [
       "<div>\n",
       "<style scoped>\n",
       "    .dataframe tbody tr th:only-of-type {\n",
       "        vertical-align: middle;\n",
       "    }\n",
       "\n",
       "    .dataframe tbody tr th {\n",
       "        vertical-align: top;\n",
       "    }\n",
       "\n",
       "    .dataframe thead th {\n",
       "        text-align: right;\n",
       "    }\n",
       "</style>\n",
       "<table border=\"1\" class=\"dataframe\">\n",
       "  <thead>\n",
       "    <tr style=\"text-align: right;\">\n",
       "      <th></th>\n",
       "      <th>GAME_ID</th>\n",
       "      <th>TEAM_ID_x</th>\n",
       "      <th>TEAM_ABBREVIATION_x</th>\n",
       "      <th>TEAM_CITY</th>\n",
       "      <th>PLAYER_ID</th>\n",
       "      <th>PLAYER_NAME</th>\n",
       "      <th>START_POSITION</th>\n",
       "      <th>COMMENT</th>\n",
       "      <th>MIN_x</th>\n",
       "      <th>FGM_x</th>\n",
       "      <th>...</th>\n",
       "      <th>OPP_PF</th>\n",
       "      <th>OPP_PTS</th>\n",
       "      <th>OPP_PLUS_MINUS</th>\n",
       "      <th>OPP_VIDEO_AVAILABLE</th>\n",
       "      <th>OPP_pk</th>\n",
       "      <th>OPP_DK_PTS</th>\n",
       "      <th>OPP_DK_PTS_TRAIL3</th>\n",
       "      <th>OPP_TEAM_PTS_TRAIL3</th>\n",
       "      <th>OPP_TEAM_PTS_TRAIL7</th>\n",
       "      <th>OPP</th>\n",
       "    </tr>\n",
       "  </thead>\n",
       "  <tbody>\n",
       "    <tr>\n",
       "      <th>3</th>\n",
       "      <td>0021700498</td>\n",
       "      <td>1.610613e+09</td>\n",
       "      <td>DET</td>\n",
       "      <td>Detroit</td>\n",
       "      <td>202779.0</td>\n",
       "      <td>Dwight Buycks</td>\n",
       "      <td></td>\n",
       "      <td></td>\n",
       "      <td>2:10</td>\n",
       "      <td>0.0</td>\n",
       "      <td>...</td>\n",
       "      <td>17.0</td>\n",
       "      <td>107.0</td>\n",
       "      <td>24.0</td>\n",
       "      <td>1.0</td>\n",
       "      <td>0021700498DET</td>\n",
       "      <td>215.00</td>\n",
       "      <td>217.500000</td>\n",
       "      <td>108.666667</td>\n",
       "      <td>106.142857</td>\n",
       "      <td>DET</td>\n",
       "    </tr>\n",
       "    <tr>\n",
       "      <th>4</th>\n",
       "      <td>0021700498</td>\n",
       "      <td>1.610613e+09</td>\n",
       "      <td>DET</td>\n",
       "      <td>Detroit</td>\n",
       "      <td>202779.0</td>\n",
       "      <td>Dwight Buycks</td>\n",
       "      <td></td>\n",
       "      <td></td>\n",
       "      <td>2:10</td>\n",
       "      <td>0.0</td>\n",
       "      <td>...</td>\n",
       "      <td>19.0</td>\n",
       "      <td>83.0</td>\n",
       "      <td>-24.0</td>\n",
       "      <td>1.0</td>\n",
       "      <td>0021700498IND</td>\n",
       "      <td>157.50</td>\n",
       "      <td>221.833333</td>\n",
       "      <td>107.000000</td>\n",
       "      <td>100.571429</td>\n",
       "      <td>IND</td>\n",
       "    </tr>\n",
       "    <tr>\n",
       "      <th>5</th>\n",
       "      <td>0021700516</td>\n",
       "      <td>1.610613e+09</td>\n",
       "      <td>DET</td>\n",
       "      <td>Detroit</td>\n",
       "      <td>202779.0</td>\n",
       "      <td>Dwight Buycks</td>\n",
       "      <td></td>\n",
       "      <td></td>\n",
       "      <td>2:12</td>\n",
       "      <td>0.0</td>\n",
       "      <td>...</td>\n",
       "      <td>17.0</td>\n",
       "      <td>89.0</td>\n",
       "      <td>-13.0</td>\n",
       "      <td>1.0</td>\n",
       "      <td>0021700516DET</td>\n",
       "      <td>184.75</td>\n",
       "      <td>236.833333</td>\n",
       "      <td>116.000000</td>\n",
       "      <td>110.714286</td>\n",
       "      <td>DET</td>\n",
       "    </tr>\n",
       "    <tr>\n",
       "      <th>6</th>\n",
       "      <td>0021700516</td>\n",
       "      <td>1.610613e+09</td>\n",
       "      <td>DET</td>\n",
       "      <td>Detroit</td>\n",
       "      <td>202779.0</td>\n",
       "      <td>Dwight Buycks</td>\n",
       "      <td></td>\n",
       "      <td></td>\n",
       "      <td>2:12</td>\n",
       "      <td>0.0</td>\n",
       "      <td>...</td>\n",
       "      <td>17.0</td>\n",
       "      <td>102.0</td>\n",
       "      <td>13.0</td>\n",
       "      <td>1.0</td>\n",
       "      <td>0021700516ORL</td>\n",
       "      <td>217.00</td>\n",
       "      <td>200.833333</td>\n",
       "      <td>98.000000</td>\n",
       "      <td>99.428571</td>\n",
       "      <td>ORL</td>\n",
       "    </tr>\n",
       "    <tr>\n",
       "      <th>7</th>\n",
       "      <td>0021700530</td>\n",
       "      <td>1.610613e+09</td>\n",
       "      <td>DET</td>\n",
       "      <td>Detroit</td>\n",
       "      <td>202779.0</td>\n",
       "      <td>Dwight Buycks</td>\n",
       "      <td></td>\n",
       "      <td></td>\n",
       "      <td>17:34</td>\n",
       "      <td>2.0</td>\n",
       "      <td>...</td>\n",
       "      <td>11.0</td>\n",
       "      <td>93.0</td>\n",
       "      <td>14.0</td>\n",
       "      <td>1.0</td>\n",
       "      <td>0021700530DET</td>\n",
       "      <td>202.75</td>\n",
       "      <td>207.750000</td>\n",
       "      <td>101.000000</td>\n",
       "      <td>97.285714</td>\n",
       "      <td>DET</td>\n",
       "    </tr>\n",
       "    <tr>\n",
       "      <th>...</th>\n",
       "      <td>...</td>\n",
       "      <td>...</td>\n",
       "      <td>...</td>\n",
       "      <td>...</td>\n",
       "      <td>...</td>\n",
       "      <td>...</td>\n",
       "      <td>...</td>\n",
       "      <td>...</td>\n",
       "      <td>...</td>\n",
       "      <td>...</td>\n",
       "      <td>...</td>\n",
       "      <td>...</td>\n",
       "      <td>...</td>\n",
       "      <td>...</td>\n",
       "      <td>...</td>\n",
       "      <td>...</td>\n",
       "      <td>...</td>\n",
       "      <td>...</td>\n",
       "      <td>...</td>\n",
       "      <td>...</td>\n",
       "      <td>...</td>\n",
       "    </tr>\n",
       "    <tr>\n",
       "      <th>277</th>\n",
       "      <td>0021700251</td>\n",
       "      <td>1.610613e+09</td>\n",
       "      <td>DEN</td>\n",
       "      <td>Denver</td>\n",
       "      <td>1626144.0</td>\n",
       "      <td>Emmanuel Mudiay</td>\n",
       "      <td></td>\n",
       "      <td></td>\n",
       "      <td>19:39</td>\n",
       "      <td>1.0</td>\n",
       "      <td>...</td>\n",
       "      <td>19.0</td>\n",
       "      <td>98.0</td>\n",
       "      <td>-16.0</td>\n",
       "      <td>1.0</td>\n",
       "      <td>0021700251SAC</td>\n",
       "      <td>199.00</td>\n",
       "      <td>227.666667</td>\n",
       "      <td>113.333333</td>\n",
       "      <td>110.285714</td>\n",
       "      <td>SAC</td>\n",
       "    </tr>\n",
       "    <tr>\n",
       "      <th>278</th>\n",
       "      <td>0021700251</td>\n",
       "      <td>1.610613e+09</td>\n",
       "      <td>DEN</td>\n",
       "      <td>Denver</td>\n",
       "      <td>1626144.0</td>\n",
       "      <td>Emmanuel Mudiay</td>\n",
       "      <td></td>\n",
       "      <td></td>\n",
       "      <td>19:39</td>\n",
       "      <td>1.0</td>\n",
       "      <td>...</td>\n",
       "      <td>13.0</td>\n",
       "      <td>114.0</td>\n",
       "      <td>16.0</td>\n",
       "      <td>1.0</td>\n",
       "      <td>0021700251DEN</td>\n",
       "      <td>220.75</td>\n",
       "      <td>219.750000</td>\n",
       "      <td>103.333333</td>\n",
       "      <td>104.571429</td>\n",
       "      <td>DEN</td>\n",
       "    </tr>\n",
       "    <tr>\n",
       "      <th>279</th>\n",
       "      <td>0021700259</td>\n",
       "      <td>1.610613e+09</td>\n",
       "      <td>DEN</td>\n",
       "      <td>Denver</td>\n",
       "      <td>1626144.0</td>\n",
       "      <td>Emmanuel Mudiay</td>\n",
       "      <td></td>\n",
       "      <td></td>\n",
       "      <td>24:57</td>\n",
       "      <td>0.0</td>\n",
       "      <td>...</td>\n",
       "      <td>22.0</td>\n",
       "      <td>125.0</td>\n",
       "      <td>30.0</td>\n",
       "      <td>2.0</td>\n",
       "      <td>0021700259HOU</td>\n",
       "      <td>261.50</td>\n",
       "      <td>223.250000</td>\n",
       "      <td>113.000000</td>\n",
       "      <td>106.142857</td>\n",
       "      <td>HOU</td>\n",
       "    </tr>\n",
       "    <tr>\n",
       "      <th>280</th>\n",
       "      <td>0021700259</td>\n",
       "      <td>1.610613e+09</td>\n",
       "      <td>DEN</td>\n",
       "      <td>Denver</td>\n",
       "      <td>1626144.0</td>\n",
       "      <td>Emmanuel Mudiay</td>\n",
       "      <td></td>\n",
       "      <td></td>\n",
       "      <td>24:57</td>\n",
       "      <td>0.0</td>\n",
       "      <td>...</td>\n",
       "      <td>14.0</td>\n",
       "      <td>95.0</td>\n",
       "      <td>-30.0</td>\n",
       "      <td>2.0</td>\n",
       "      <td>0021700259DEN</td>\n",
       "      <td>203.75</td>\n",
       "      <td>227.250000</td>\n",
       "      <td>109.333333</td>\n",
       "      <td>106.000000</td>\n",
       "      <td>DEN</td>\n",
       "    </tr>\n",
       "    <tr>\n",
       "      <th>281</th>\n",
       "      <td>0021700274</td>\n",
       "      <td>1.610613e+09</td>\n",
       "      <td>DEN</td>\n",
       "      <td>Denver</td>\n",
       "      <td>1626144.0</td>\n",
       "      <td>Emmanuel Mudiay</td>\n",
       "      <td></td>\n",
       "      <td></td>\n",
       "      <td>11:19</td>\n",
       "      <td>3.0</td>\n",
       "      <td>...</td>\n",
       "      <td>21.0</td>\n",
       "      <td>92.0</td>\n",
       "      <td>-12.0</td>\n",
       "      <td>2.0</td>\n",
       "      <td>0021700274MEM</td>\n",
       "      <td>184.25</td>\n",
       "      <td>243.166667</td>\n",
       "      <td>116.666667</td>\n",
       "      <td>109.142857</td>\n",
       "      <td>MEM</td>\n",
       "    </tr>\n",
       "  </tbody>\n",
       "</table>\n",
       "<p>120 rows × 116 columns</p>\n",
       "</div>"
      ],
      "text/plain": [
       "        GAME_ID     TEAM_ID_x TEAM_ABBREVIATION_x TEAM_CITY  PLAYER_ID  \\\n",
       "3    0021700498  1.610613e+09                 DET   Detroit   202779.0   \n",
       "4    0021700498  1.610613e+09                 DET   Detroit   202779.0   \n",
       "5    0021700516  1.610613e+09                 DET   Detroit   202779.0   \n",
       "6    0021700516  1.610613e+09                 DET   Detroit   202779.0   \n",
       "7    0021700530  1.610613e+09                 DET   Detroit   202779.0   \n",
       "..          ...           ...                 ...       ...        ...   \n",
       "277  0021700251  1.610613e+09                 DEN    Denver  1626144.0   \n",
       "278  0021700251  1.610613e+09                 DEN    Denver  1626144.0   \n",
       "279  0021700259  1.610613e+09                 DEN    Denver  1626144.0   \n",
       "280  0021700259  1.610613e+09                 DEN    Denver  1626144.0   \n",
       "281  0021700274  1.610613e+09                 DEN    Denver  1626144.0   \n",
       "\n",
       "         PLAYER_NAME START_POSITION COMMENT  MIN_x  FGM_x  ...  OPP_PF  \\\n",
       "3      Dwight Buycks                          2:10    0.0  ...    17.0   \n",
       "4      Dwight Buycks                          2:10    0.0  ...    19.0   \n",
       "5      Dwight Buycks                          2:12    0.0  ...    17.0   \n",
       "6      Dwight Buycks                          2:12    0.0  ...    17.0   \n",
       "7      Dwight Buycks                         17:34    2.0  ...    11.0   \n",
       "..               ...            ...     ...    ...    ...  ...     ...   \n",
       "277  Emmanuel Mudiay                         19:39    1.0  ...    19.0   \n",
       "278  Emmanuel Mudiay                         19:39    1.0  ...    13.0   \n",
       "279  Emmanuel Mudiay                         24:57    0.0  ...    22.0   \n",
       "280  Emmanuel Mudiay                         24:57    0.0  ...    14.0   \n",
       "281  Emmanuel Mudiay                         11:19    3.0  ...    21.0   \n",
       "\n",
       "     OPP_PTS  OPP_PLUS_MINUS  OPP_VIDEO_AVAILABLE         OPP_pk  OPP_DK_PTS  \\\n",
       "3      107.0            24.0                  1.0  0021700498DET      215.00   \n",
       "4       83.0           -24.0                  1.0  0021700498IND      157.50   \n",
       "5       89.0           -13.0                  1.0  0021700516DET      184.75   \n",
       "6      102.0            13.0                  1.0  0021700516ORL      217.00   \n",
       "7       93.0            14.0                  1.0  0021700530DET      202.75   \n",
       "..       ...             ...                  ...            ...         ...   \n",
       "277     98.0           -16.0                  1.0  0021700251SAC      199.00   \n",
       "278    114.0            16.0                  1.0  0021700251DEN      220.75   \n",
       "279    125.0            30.0                  2.0  0021700259HOU      261.50   \n",
       "280     95.0           -30.0                  2.0  0021700259DEN      203.75   \n",
       "281     92.0           -12.0                  2.0  0021700274MEM      184.25   \n",
       "\n",
       "     OPP_DK_PTS_TRAIL3  OPP_TEAM_PTS_TRAIL3  OPP_TEAM_PTS_TRAIL7  OPP  \n",
       "3           217.500000           108.666667           106.142857  DET  \n",
       "4           221.833333           107.000000           100.571429  IND  \n",
       "5           236.833333           116.000000           110.714286  DET  \n",
       "6           200.833333            98.000000            99.428571  ORL  \n",
       "7           207.750000           101.000000            97.285714  DET  \n",
       "..                 ...                  ...                  ...  ...  \n",
       "277         227.666667           113.333333           110.285714  SAC  \n",
       "278         219.750000           103.333333           104.571429  DEN  \n",
       "279         223.250000           113.000000           106.142857  HOU  \n",
       "280         227.250000           109.333333           106.000000  DEN  \n",
       "281         243.166667           116.666667           109.142857  MEM  \n",
       "\n",
       "[120 rows x 116 columns]"
      ]
     },
     "execution_count": 63,
     "metadata": {},
     "output_type": "execute_result"
    }
   ],
   "source": [
    "df_master.head(120)"
   ]
  },
  {
   "cell_type": "code",
   "execution_count": 64,
   "metadata": {
    "ExecuteTime": {
     "end_time": "2020-01-29T20:55:23.716195Z",
     "start_time": "2020-01-29T20:55:23.660247Z"
    }
   },
   "outputs": [],
   "source": [
    "df_master.reset_index(inplace = True, drop = True)\n",
    "df_master_opp = df_master[df_master['TEAM_ABBREVIATION_x'] == df_master['OPP']]"
   ]
  },
  {
   "cell_type": "code",
   "execution_count": 65,
   "metadata": {
    "ExecuteTime": {
     "end_time": "2020-01-29T20:55:24.652579Z",
     "start_time": "2020-01-29T20:55:24.644153Z"
    }
   },
   "outputs": [
    {
     "data": {
      "text/plain": [
       "GAME_ID                 0021700498\n",
       "TEAM_ID_x              1.61061e+09\n",
       "TEAM_ABBREVIATION_x            DET\n",
       "TEAM_CITY                  Detroit\n",
       "PLAYER_ID                   202779\n",
       "                          ...     \n",
       "OPP_DK_PTS                     215\n",
       "OPP_DK_PTS_TRAIL3            217.5\n",
       "OPP_TEAM_PTS_TRAIL3        108.667\n",
       "OPP_TEAM_PTS_TRAIL7        106.143\n",
       "OPP                            DET\n",
       "Name: 0, Length: 116, dtype: object"
      ]
     },
     "execution_count": 65,
     "metadata": {},
     "output_type": "execute_result"
    }
   ],
   "source": [
    "df_master_opp.iloc[0,:]"
   ]
  },
  {
   "cell_type": "markdown",
   "metadata": {
    "ExecuteTime": {
     "end_time": "2020-01-29T20:09:54.339878Z",
     "start_time": "2020-01-29T20:09:54.337111Z"
    }
   },
   "source": [
    "#### Calculate DraftKings points scored by each player"
   ]
  },
  {
   "cell_type": "code",
   "execution_count": 66,
   "metadata": {
    "ExecuteTime": {
     "end_time": "2020-01-29T20:55:32.087716Z",
     "start_time": "2020-01-29T20:55:32.066951Z"
    },
    "scrolled": true
   },
   "outputs": [
    {
     "name": "stderr",
     "output_type": "stream",
     "text": [
      "/Users/marshall132/anaconda3/lib/python3.6/site-packages/ipykernel_launcher.py:1: SettingWithCopyWarning: \n",
      "A value is trying to be set on a copy of a slice from a DataFrame.\n",
      "Try using .loc[row_indexer,col_indexer] = value instead\n",
      "\n",
      "See the caveats in the documentation: http://pandas.pydata.org/pandas-docs/stable/user_guide/indexing.html#returning-a-view-versus-a-copy\n",
      "  \"\"\"Entry point for launching an IPython kernel.\n"
     ]
    }
   ],
   "source": [
    "df_master_opp['DK_PTS'] = df_master_opp['PTS_x'] + df_master_opp['FG3M_x']*.5 + df_master_opp['REB_x']*1.25 + df_master_opp['AST_x']*1.5 + df_master_opp['STL_x']* 2 + df_master_opp['BLK_x']*2 -df_master_opp['TOS']*.5\n"
   ]
  },
  {
   "cell_type": "code",
   "execution_count": 67,
   "metadata": {
    "ExecuteTime": {
     "end_time": "2020-01-29T20:55:35.288503Z",
     "start_time": "2020-01-29T20:55:34.795577Z"
    },
    "scrolled": true
   },
   "outputs": [
    {
     "data": {
      "text/plain": [
       "<matplotlib.axes._subplots.AxesSubplot at 0x12c485eb8>"
      ]
     },
     "execution_count": 67,
     "metadata": {},
     "output_type": "execute_result"
    },
    {
     "data": {
      "image/png": "[encoded data removed]",
      "text/plain": [
       "<Figure size 432x288 with 1 Axes>"
      ]
     },
     "metadata": {
      "needs_background": "light"
     },
     "output_type": "display_data"
    }
   ],
   "source": [
    "df_master_opp['DK_PTS'].hist()"
   ]
  },
  {
   "cell_type": "markdown",
   "metadata": {
    "ExecuteTime": {
     "end_time": "2020-01-29T20:10:46.507938Z",
     "start_time": "2020-01-29T20:10:46.504921Z"
    }
   },
   "source": [
    "### Correlation between opposing team's defense and amount of fantasy points a player scores"
   ]
  },
  {
   "cell_type": "code",
   "execution_count": 69,
   "metadata": {
    "ExecuteTime": {
     "end_time": "2020-01-29T20:55:49.043199Z",
     "start_time": "2020-01-29T20:55:48.451650Z"
    }
   },
   "outputs": [
    {
     "data": {
      "text/plain": [
       "<matplotlib.collections.PathCollection at 0x12b3cfa20>"
      ]
     },
     "execution_count": 69,
     "metadata": {},
     "output_type": "execute_result"
    },
    {
     "data": {
      "image/png": "[encoded data removed]",
      "text/plain": [
       "<Figure size 432x288 with 1 Axes>"
      ]
     },
     "metadata": {
      "needs_background": "light"
     },
     "output_type": "display_data"
    }
   ],
   "source": [
    "import matplotlib.pyplot as plt\n",
    "import seaborn as sns\n",
    "%matplotlib inline\n",
    "\n",
    "defense_df = df_master_opp[['OPP_DK_PTS_TRAIL3','DK_PTS']]\n",
    "\n",
    "plt.scatter(defense_df.OPP_DK_PTS_TRAIL3, defense_df.DK_PTS)\n"
   ]
  },
  {
   "cell_type": "code",
   "execution_count": 70,
   "metadata": {
    "ExecuteTime": {
     "end_time": "2020-01-29T20:55:51.372169Z",
     "start_time": "2020-01-29T20:55:51.358178Z"
    }
   },
   "outputs": [
    {
     "data": {
      "text/html": [
       "<div>\n",
       "<style scoped>\n",
       "    .dataframe tbody tr th:only-of-type {\n",
       "        vertical-align: middle;\n",
       "    }\n",
       "\n",
       "    .dataframe tbody tr th {\n",
       "        vertical-align: top;\n",
       "    }\n",
       "\n",
       "    .dataframe thead th {\n",
       "        text-align: right;\n",
       "    }\n",
       "</style>\n",
       "<table border=\"1\" class=\"dataframe\">\n",
       "  <thead>\n",
       "    <tr style=\"text-align: right;\">\n",
       "      <th></th>\n",
       "      <th>OPP_DK_PTS_TRAIL3</th>\n",
       "      <th>DK_PTS</th>\n",
       "    </tr>\n",
       "  </thead>\n",
       "  <tbody>\n",
       "    <tr>\n",
       "      <th>OPP_DK_PTS_TRAIL3</th>\n",
       "      <td>1.000000</td>\n",
       "      <td>0.040687</td>\n",
       "    </tr>\n",
       "    <tr>\n",
       "      <th>DK_PTS</th>\n",
       "      <td>0.040687</td>\n",
       "      <td>1.000000</td>\n",
       "    </tr>\n",
       "  </tbody>\n",
       "</table>\n",
       "</div>"
      ],
      "text/plain": [
       "                   OPP_DK_PTS_TRAIL3    DK_PTS\n",
       "OPP_DK_PTS_TRAIL3           1.000000  0.040687\n",
       "DK_PTS                      0.040687  1.000000"
      ]
     },
     "execution_count": 70,
     "metadata": {},
     "output_type": "execute_result"
    }
   ],
   "source": [
    "defense_df.corr()"
   ]
  },
  {
   "cell_type": "markdown",
   "metadata": {
    "ExecuteTime": {
     "end_time": "2020-01-29T20:12:06.416663Z",
     "start_time": "2020-01-29T20:12:06.413945Z"
    }
   },
   "source": [
    "#### Correlation with Power Transformed Variables"
   ]
  },
  {
   "cell_type": "code",
   "execution_count": 71,
   "metadata": {
    "ExecuteTime": {
     "end_time": "2020-01-29T20:55:55.153960Z",
     "start_time": "2020-01-29T20:55:54.908430Z"
    }
   },
   "outputs": [],
   "source": [
    "from sklearn.preprocessing import PowerTransformer\n",
    "scaler = PowerTransformer(method = 'yeo-johnson', standardize = True)\n",
    "scaler.fit(defense_df)\n",
    "defense_df_transformed = scaler.transform(defense_df)"
   ]
  },
  {
   "cell_type": "code",
   "execution_count": 72,
   "metadata": {
    "ExecuteTime": {
     "end_time": "2020-01-29T20:55:56.737275Z",
     "start_time": "2020-01-29T20:55:56.733574Z"
    }
   },
   "outputs": [],
   "source": [
    "defense_clean_transformed = pd.DataFrame(defense_df_transformed)"
   ]
  },
  {
   "cell_type": "code",
   "execution_count": 73,
   "metadata": {
    "ExecuteTime": {
     "end_time": "2020-01-29T20:55:57.984383Z",
     "start_time": "2020-01-29T20:55:57.974024Z"
    }
   },
   "outputs": [
    {
     "data": {
      "text/html": [
       "<div>\n",
       "<style scoped>\n",
       "    .dataframe tbody tr th:only-of-type {\n",
       "        vertical-align: middle;\n",
       "    }\n",
       "\n",
       "    .dataframe tbody tr th {\n",
       "        vertical-align: top;\n",
       "    }\n",
       "\n",
       "    .dataframe thead th {\n",
       "        text-align: right;\n",
       "    }\n",
       "</style>\n",
       "<table border=\"1\" class=\"dataframe\">\n",
       "  <thead>\n",
       "    <tr style=\"text-align: right;\">\n",
       "      <th></th>\n",
       "      <th>0</th>\n",
       "      <th>1</th>\n",
       "    </tr>\n",
       "  </thead>\n",
       "  <tbody>\n",
       "    <tr>\n",
       "      <th>0</th>\n",
       "      <td>1.000000</td>\n",
       "      <td>0.037706</td>\n",
       "    </tr>\n",
       "    <tr>\n",
       "      <th>1</th>\n",
       "      <td>0.037706</td>\n",
       "      <td>1.000000</td>\n",
       "    </tr>\n",
       "  </tbody>\n",
       "</table>\n",
       "</div>"
      ],
      "text/plain": [
       "          0         1\n",
       "0  1.000000  0.037706\n",
       "1  0.037706  1.000000"
      ]
     },
     "execution_count": 73,
     "metadata": {},
     "output_type": "execute_result"
    }
   ],
   "source": [
    "defense_clean_transformed.corr()"
   ]
  },
  {
   "cell_type": "code",
   "execution_count": null,
   "metadata": {},
   "outputs": [],
   "source": []
  },
  {
   "cell_type": "code",
   "execution_count": null,
   "metadata": {},
   "outputs": [],
   "source": []
  },
  {
   "cell_type": "code",
   "execution_count": null,
   "metadata": {},
   "outputs": [],
   "source": []
  }
 ],
 "metadata": {
  "kernelspec": {
   "display_name": "Python 3",
   "language": "python",
   "name": "python3"
  },
  "language_info": {
   "codemirror_mode": {
    "name": "ipython",
    "version": 3
   },
   "file_extension": ".py",
   "mimetype": "text/x-python",
   "name": "python",
   "nbconvert_exporter": "python",
   "pygments_lexer": "ipython3",
   "version": "3.6.9"
  },
  "toc": {
   "base_numbering": 1,
   "nav_menu": {},
   "number_sections": true,
   "sideBar": true,
   "skip_h1_title": true,
   "title_cell": "Table of Contents",
   "title_sidebar": "Contents",
   "toc_cell": false,
   "toc_position": {},
   "toc_section_display": true,
   "toc_window_display": true
  }
 },
 "nbformat": 4,
 "nbformat_minor": 2
}
