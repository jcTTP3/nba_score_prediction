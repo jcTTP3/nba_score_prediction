{
 "cells": [
  {
   "cell_type": "markdown",
   "metadata": {},
   "source": [
    "# Import Packages"
   ]
  },
  {
   "cell_type": "code",
   "execution_count": 35,
   "metadata": {},
   "outputs": [],
   "source": [
    "import mysql.connector\n",
    "from mysql.connector import errorcode\n",
    "import config\n",
    "import pandas as pd\n",
    "import numpy as np\n",
    "import statsmodels.api as sm\n",
    "from statsmodels.formula.api import ols\n",
    "from sklearn.linear_model import LinearRegression\n",
    "from sklearn.model_selection import train_test_split\n",
    "import scipy.stats as stats\n",
    "import seaborn as sns"
   ]
  },
  {
   "cell_type": "markdown",
   "metadata": {},
   "source": [
    "# Connect to MySQL"
   ]
  },
  {
   "cell_type": "code",
   "execution_count": 3,
   "metadata": {},
   "outputs": [],
   "source": [
    "dbname = 'nba'\n",
    "cnx = mysql.connector.connect(\n",
    "    host = config.host,\n",
    "    user = config.user,\n",
    "    passwd = config.password,\n",
    "    db = dbname\n",
    ")\n",
    "cursor = cnx.cursor(buffered = True)"
   ]
  },
  {
   "cell_type": "markdown",
   "metadata": {},
   "source": [
    "# Get box scores"
   ]
  },
  {
   "cell_type": "code",
   "execution_count": 4,
   "metadata": {},
   "outputs": [],
   "source": [
    "select_statement = \"\"\"SELECT * FROM nba.box_score;\"\"\"\n",
    "cursor.execute(select_statement)\n",
    "nba_data = cursor.fetchall()"
   ]
  },
  {
   "cell_type": "code",
   "execution_count": 5,
   "metadata": {},
   "outputs": [],
   "source": [
    "nba_df = pd.DataFrame(nba_data)\n",
    "field_names = [i[0] for i in cursor.description]\n",
    "nba_df.columns = field_names"
   ]
  },
  {
   "cell_type": "code",
   "execution_count": 6,
   "metadata": {},
   "outputs": [],
   "source": [
    "nba_df_played = nba_df[nba_df['MIN'].notnull()]"
   ]
  },
  {
   "cell_type": "code",
   "execution_count": 7,
   "metadata": {
    "scrolled": true
   },
   "outputs": [
    {
     "name": "stdout",
     "output_type": "stream",
     "text": [
      "<class 'pandas.core.frame.DataFrame'>\n",
      "Int64Index: 57287 entries, 3 to 67817\n",
      "Data columns (total 34 columns):\n",
      "GAME_ID              57287 non-null object\n",
      "TEAM_ID              57287 non-null float64\n",
      "TEAM_ABBREVIATION    57287 non-null object\n",
      "TEAM_CITY            57287 non-null object\n",
      "PLAYER_ID            57287 non-null float64\n",
      "PLAYER_NAME          57287 non-null object\n",
      "START_POSITION       57287 non-null object\n",
      "COMMENT              57287 non-null object\n",
      "MIN                  57287 non-null object\n",
      "FGM                  57287 non-null float64\n",
      "FGA                  57287 non-null float64\n",
      "FG_PCT               57287 non-null float64\n",
      "FG3M                 57287 non-null float64\n",
      "FG3A                 57287 non-null float64\n",
      "FG3_PCT              57287 non-null float64\n",
      "FTM                  57287 non-null float64\n",
      "FTA                  57287 non-null float64\n",
      "FT_PCT               57287 non-null float64\n",
      "OREB                 57287 non-null float64\n",
      "DREB                 57287 non-null float64\n",
      "REB                  57287 non-null float64\n",
      "AST                  57287 non-null float64\n",
      "STL                  57287 non-null float64\n",
      "BLK                  57287 non-null float64\n",
      "PF                   57287 non-null float64\n",
      "PTS                  57287 non-null float64\n",
      "PLUS_MINUS           57287 non-null float64\n",
      "pk                   57287 non-null object\n",
      "TOS                  57287 non-null float64\n",
      "SEASON_ID            57287 non-null object\n",
      "DK_PTS               57287 non-null float64\n",
      "DD                   57287 non-null int64\n",
      "TD                   57287 non-null int64\n",
      "doubles              57287 non-null float64\n",
      "dtypes: float64(23), int64(2), object(9)\n",
      "memory usage: 15.3+ MB\n"
     ]
    }
   ],
   "source": [
    "nba_df_played.info()"
   ]
  },
  {
   "cell_type": "code",
   "execution_count": 9,
   "metadata": {
    "scrolled": true
   },
   "outputs": [
    {
     "data": {
      "text/plain": [
       "(57287, 34)"
      ]
     },
     "execution_count": 9,
     "metadata": {},
     "output_type": "execute_result"
    }
   ],
   "source": [
    "nba_df_played.shape"
   ]
  },
  {
   "cell_type": "markdown",
   "metadata": {},
   "source": [
    "# Create second variable"
   ]
  },
  {
   "cell_type": "code",
   "execution_count": 12,
   "metadata": {},
   "outputs": [
    {
     "name": "stderr",
     "output_type": "stream",
     "text": [
      "//anaconda3/lib/python3.7/site-packages/ipykernel_launcher.py:2: SettingWithCopyWarning: \n",
      "A value is trying to be set on a copy of a slice from a DataFrame.\n",
      "Try using .loc[row_indexer,col_indexer] = value instead\n",
      "\n",
      "See the caveats in the documentation: http://pandas.pydata.org/pandas-docs/stable/indexing.html#indexing-view-versus-copy\n",
      "  \n"
     ]
    }
   ],
   "source": [
    "nba_df_played.reset_index(drop = True, inplace = True)\n",
    "nba_df_played['SEC'] = 0\n",
    "for i in range(0, len(nba_df_played)):\n",
    "    minutes = nba_df_played.loc[i, 'MIN']\n",
    "    nba_df_played.at[i, 'SEC'] = int(minutes.split(':')[0])*60 + int(minutes.split(':')[1])"
   ]
  },
  {
   "cell_type": "markdown",
   "metadata": {},
   "source": [
    "# Get Trailing Averages for Last 3 Games"
   ]
  },
  {
   "cell_type": "code",
   "execution_count": 13,
   "metadata": {},
   "outputs": [],
   "source": [
    "# Get average from last trail_len\n",
    "def get_trailing_avg(df, col_name, trail_len):\n",
    "    new_col = col_name + '_TRAIL' + str(trail_len)\n",
    "    df[new_col] = None\n",
    "    for i in range(0, trail_len):\n",
    "        df.at[i, new_col] = 'game' + str(i + 1)\n",
    "    for index in range(trail_len, len(df)):\n",
    "        df.at[index, new_col] = np.mean(df.loc[index-trail_len:index-1, col_name])"
   ]
  },
  {
   "cell_type": "code",
   "execution_count": 14,
   "metadata": {},
   "outputs": [],
   "source": [
    "nba_trailing = []\n",
    "for season in set(nba_df_played['SEASON_ID']):\n",
    "    for player in set(nba_df_played['PLAYER_ID']):\n",
    "        games_played = nba_df_played[(nba_df_played['PLAYER_ID'] == player) & \n",
    "                                     (nba_df_played['SEASON_ID'] == season)]\n",
    "        games_played = games_played.sort_values(by = ['GAME_ID'])\n",
    "        games_played.reset_index(drop = True, inplace = True)\n",
    "                      \n",
    "        # Group 1: Field Goals\n",
    "        get_trailing_avg(games_played, 'FGM', 3)\n",
    "        get_trailing_avg(games_played, 'FGA', 3)\n",
    "        get_trailing_avg(games_played, 'FG_PCT', 3)\n",
    "        \n",
    "        # Group 2: Three-Pointers\n",
    "        get_trailing_avg(games_played, 'FG3M', 3)\n",
    "        get_trailing_avg(games_played, 'FG3A', 3)\n",
    "        get_trailing_avg(games_played, 'FG3_PCT', 3)\n",
    "\n",
    "        # Group 3: Free Throws\n",
    "        get_trailing_avg(games_played, 'FTM', 3)\n",
    "        get_trailing_avg(games_played, 'FTA', 3)\n",
    "        get_trailing_avg(games_played, 'FT_PCT', 3)\n",
    "\n",
    "        # Group 4: Rebounds\n",
    "        get_trailing_avg(games_played, 'OREB', 3)\n",
    "        get_trailing_avg(games_played, 'DREB', 3)\n",
    "        get_trailing_avg(games_played, 'REB', 3)\n",
    "        \n",
    "        # Group 5: Miscellaneous\n",
    "        get_trailing_avg(games_played, 'PTS', 3)\n",
    "        get_trailing_avg(games_played, 'STL', 3)\n",
    "        get_trailing_avg(games_played, 'AST', 3)            \n",
    "        get_trailing_avg(games_played, 'BLK', 3)\n",
    "        get_trailing_avg(games_played, 'TOS', 3)\n",
    "        get_trailing_avg(games_played, 'doubles', 3)\n",
    "        get_trailing_avg(games_played, 'SEC', 3)\n",
    "                      \n",
    "        nba_trailing.append(games_played)"
   ]
  },
  {
   "cell_type": "code",
   "execution_count": 15,
   "metadata": {},
   "outputs": [],
   "source": [
    "nba_trailing_df = pd.concat(nba_trailing)"
   ]
  },
  {
   "cell_type": "code",
   "execution_count": 16,
   "metadata": {},
   "outputs": [],
   "source": [
    "nba_trailing_played = nba_trailing_df[nba_trailing_df['MIN'].notnull()]"
   ]
  },
  {
   "cell_type": "code",
   "execution_count": 17,
   "metadata": {},
   "outputs": [
    {
     "data": {
      "text/plain": [
       "Index(['GAME_ID', 'TEAM_ID', 'TEAM_ABBREVIATION', 'TEAM_CITY', 'PLAYER_ID',\n",
       "       'PLAYER_NAME', 'START_POSITION', 'COMMENT', 'MIN', 'FGM', 'FGA',\n",
       "       'FG_PCT', 'FG3M', 'FG3A', 'FG3_PCT', 'FTM', 'FTA', 'FT_PCT', 'OREB',\n",
       "       'DREB', 'REB', 'AST', 'STL', 'BLK', 'PF', 'PTS', 'PLUS_MINUS', 'pk',\n",
       "       'TOS', 'SEASON_ID', 'DK_PTS', 'DD', 'TD', 'doubles', 'SEC',\n",
       "       'FGM_TRAIL3', 'FGA_TRAIL3', 'FG_PCT_TRAIL3', 'FG3M_TRAIL3',\n",
       "       'FG3A_TRAIL3', 'FG3_PCT_TRAIL3', 'FTM_TRAIL3', 'FTA_TRAIL3',\n",
       "       'FT_PCT_TRAIL3', 'OREB_TRAIL3', 'DREB_TRAIL3', 'REB_TRAIL3',\n",
       "       'PTS_TRAIL3', 'STL_TRAIL3', 'AST_TRAIL3', 'BLK_TRAIL3', 'TOS_TRAIL3',\n",
       "       'doubles_TRAIL3', 'SEC_TRAIL3'],\n",
       "      dtype='object')"
      ]
     },
     "execution_count": 17,
     "metadata": {},
     "output_type": "execute_result"
    }
   ],
   "source": [
    "nba_trailing_played.columns"
   ]
  },
  {
   "cell_type": "code",
   "execution_count": 41,
   "metadata": {},
   "outputs": [],
   "source": [
    "nba_trailing_played.to_csv('NBA_box_scores_trailing3.csv')"
   ]
  },
  {
   "cell_type": "code",
   "execution_count": 18,
   "metadata": {},
   "outputs": [],
   "source": [
    "stats_sub = nba_trailing_played[['FGM_TRAIL3', 'FGA_TRAIL3', 'FG_PCT_TRAIL3', \n",
    "                                  'FG3M_TRAIL3', 'FG3A_TRAIL3', 'FG3_PCT_TRAIL3', \n",
    "                                  'FTM_TRAIL3', 'FTA_TRAIL3', 'FT_PCT_TRAIL3', 'OREB_TRAIL3', \n",
    "                                  'DREB_TRAIL3', 'REB_TRAIL3', 'PTS_TRAIL3', 'STL_TRAIL3',\n",
    "                                  'AST_TRAIL3', 'BLK_TRAIL3', 'TOS_TRAIL3', 'doubles_TRAIL3', \n",
    "                                  'SEC_TRAIL3', 'DK_PTS']]"
   ]
  },
  {
   "cell_type": "code",
   "execution_count": 19,
   "metadata": {},
   "outputs": [],
   "source": [
    "stats_sub.reset_index(drop = True, inplace = True)"
   ]
  },
  {
   "cell_type": "code",
   "execution_count": 20,
   "metadata": {},
   "outputs": [],
   "source": [
    "stats_sub = stats_sub.replace({'game1': None, 'game2': None, 'game3': None})"
   ]
  },
  {
   "cell_type": "code",
   "execution_count": 21,
   "metadata": {
    "scrolled": true
   },
   "outputs": [
    {
     "data": {
      "text/plain": [
       "count    57287.00000\n",
       "mean        21.25381\n",
       "std         14.37927\n",
       "min         -1.50000\n",
       "25%         10.25000\n",
       "50%         19.25000\n",
       "75%         30.00000\n",
       "max        102.00000\n",
       "Name: DK_PTS, dtype: float64"
      ]
     },
     "execution_count": 21,
     "metadata": {},
     "output_type": "execute_result"
    }
   ],
   "source": [
    "stats_sub.DK_PTS.describe()"
   ]
  },
  {
   "cell_type": "markdown",
   "metadata": {},
   "source": [
    "## Power Transform Variables"
   ]
  },
  {
   "cell_type": "code",
   "execution_count": 22,
   "metadata": {},
   "outputs": [],
   "source": [
    "# from sklearn.preprocessing import StandardScaler\n",
    "# from sklearn.preprocessing import MinMaxScaler\n",
    "from sklearn.preprocessing import PowerTransformer\n",
    "variables = ['FGM_TRAIL3', 'FGA_TRAIL3', 'FG_PCT_TRAIL3', 'FG3M_TRAIL3', \n",
    "             'FG3A_TRAIL3', 'FG3_PCT_TRAIL3', 'FTM_TRAIL3', 'FTA_TRAIL3', 'FT_PCT_TRAIL3', \n",
    "             'OREB_TRAIL3', 'DREB_TRAIL3', 'REB_TRAIL3', 'PTS_TRAIL3', 'STL_TRAIL3',\n",
    "             'AST_TRAIL3', 'BLK_TRAIL3', 'TOS_TRAIL3', 'DK_PTS']\n",
    "\n",
    "stats_sub_transform = stats_sub.copy()\n",
    "# stats_sub_transform[variables] = stats_sub[variables].apply(StandardScaler)"
   ]
  },
  {
   "cell_type": "code",
   "execution_count": 23,
   "metadata": {},
   "outputs": [],
   "source": [
    "scaler = PowerTransformer(method = 'yeo-johnson', standardize = True)\n",
    "scaler.fit(stats_sub[variables])\n",
    "stats_sub_transform[variables] = scaler.transform(stats_sub[variables])"
   ]
  },
  {
   "cell_type": "code",
   "execution_count": 24,
   "metadata": {
    "scrolled": true
   },
   "outputs": [
    {
     "data": {
      "text/plain": [
       "array([ 0.28138728,  0.38246308,  1.53985973, -0.36248259,  0.22490021,\n",
       "       -0.20002773, -0.28941976, -0.12613955,  0.58164481, -0.64094182,\n",
       "        0.11941519,  0.12680274,  0.36944383, -0.44517502, -0.19285802,\n",
       "       -1.43300874, -0.15456539,  0.50701215])"
      ]
     },
     "execution_count": 24,
     "metadata": {},
     "output_type": "execute_result"
    }
   ],
   "source": [
    "scaler.lambdas_"
   ]
  },
  {
   "cell_type": "code",
   "execution_count": 26,
   "metadata": {},
   "outputs": [],
   "source": [
    "all_vars = ['FGM_TRAIL3', 'FGA_TRAIL3', 'FG_PCT_TRAIL3', 'FG3M_TRAIL3', \n",
    "            'FG3A_TRAIL3', 'FG3_PCT_TRAIL3', 'FTM_TRAIL3', 'FTA_TRAIL3', \n",
    "            'FT_PCT_TRAIL3', 'OREB_TRAIL3', 'DREB_TRAIL3', 'REB_TRAIL3', \n",
    "            'PTS_TRAIL3', 'STL_TRAIL3', 'AST_TRAIL3', 'BLK_TRAIL3', \n",
    "            'TOS_TRAIL3', 'doubles_TRAIL3', 'SEC_TRAIL3', 'DK_PTS']\n",
    "\n",
    "vars_of_interest = ['FGA_TRAIL3', 'AST_TRAIL3', 'TOS_TRAIL3', 'REB_TRAIL3', 'DK_PTS']"
   ]
  },
  {
   "cell_type": "code",
   "execution_count": 27,
   "metadata": {
    "scrolled": true
   },
   "outputs": [
    {
     "name": "stderr",
     "output_type": "stream",
     "text": [
      "//anaconda3/lib/python3.7/site-packages/IPython/core/interactiveshell.py:3325: UserWarning: To output multiple subplots, the figure containing the passed axes is being cleared\n",
      "  exec(code_obj, self.user_global_ns, self.user_ns)\n"
     ]
    },
    {
     "data": {
      "image/png": "[encoded data removed]",
      "text/plain": [
       "<Figure size 1080x1080 with 6 Axes>"
      ]
     },
     "metadata": {
      "needs_background": "light"
     },
     "output_type": "display_data"
    }
   ],
   "source": [
    "import matplotlib.pyplot as plt\n",
    "%matplotlib inline\n",
    "fig = plt.figure(figsize=(15,15))\n",
    "ax = fig.gca()\n",
    "stats_sub_transform[vars_of_interest].hist(ax = ax);"
   ]
  },
  {
   "cell_type": "markdown",
   "metadata": {},
   "source": [
    "# Run regression on test data"
   ]
  },
  {
   "cell_type": "code",
   "execution_count": 28,
   "metadata": {},
   "outputs": [
    {
     "name": "stderr",
     "output_type": "stream",
     "text": [
      "//anaconda3/lib/python3.7/site-packages/ipykernel_launcher.py:2: SettingWithCopyWarning: \n",
      "A value is trying to be set on a copy of a slice from a DataFrame\n",
      "\n",
      "See the caveats in the documentation: http://pandas.pydata.org/pandas-docs/stable/indexing.html#indexing-view-versus-copy\n",
      "  \n"
     ]
    }
   ],
   "source": [
    "lm_attempt1 = stats_sub_transform[vars_of_interest]\n",
    "lm_attempt1.dropna(inplace = True)\n",
    "\n",
    "outcome = 'DK_PTS'\n",
    "Y = lm_attempt1[['DK_PTS']]\n",
    "predictors = lm_attempt1.drop('DK_PTS', axis=1)\n",
    "pred_sum = \"+\".join(predictors.columns)\n",
    "formula = outcome + \"~\" + pred_sum"
   ]
  },
  {
   "cell_type": "code",
   "execution_count": 29,
   "metadata": {},
   "outputs": [],
   "source": [
    "X_train, X_test, y_train, y_test = train_test_split(predictors, Y, test_size=0.30, random_state=34567)"
   ]
  },
  {
   "cell_type": "code",
   "execution_count": 30,
   "metadata": {},
   "outputs": [],
   "source": [
    "train_data = pd.concat([X_train, y_train], axis = 1)"
   ]
  },
  {
   "cell_type": "code",
   "execution_count": 31,
   "metadata": {},
   "outputs": [
    {
     "data": {
      "text/html": [
       "<div>\n",
       "<style scoped>\n",
       "    .dataframe tbody tr th:only-of-type {\n",
       "        vertical-align: middle;\n",
       "    }\n",
       "\n",
       "    .dataframe tbody tr th {\n",
       "        vertical-align: top;\n",
       "    }\n",
       "\n",
       "    .dataframe thead th {\n",
       "        text-align: right;\n",
       "    }\n",
       "</style>\n",
       "<table border=\"1\" class=\"dataframe\">\n",
       "  <thead>\n",
       "    <tr style=\"text-align: right;\">\n",
       "      <th></th>\n",
       "      <th>FGA_TRAIL3</th>\n",
       "      <th>AST_TRAIL3</th>\n",
       "      <th>TOS_TRAIL3</th>\n",
       "      <th>REB_TRAIL3</th>\n",
       "      <th>DK_PTS</th>\n",
       "    </tr>\n",
       "  </thead>\n",
       "  <tbody>\n",
       "    <tr>\n",
       "      <th>count</th>\n",
       "      <td>37006.000000</td>\n",
       "      <td>37006.000000</td>\n",
       "      <td>37006.000000</td>\n",
       "      <td>37006.000000</td>\n",
       "      <td>37006.000000</td>\n",
       "    </tr>\n",
       "    <tr>\n",
       "      <th>mean</th>\n",
       "      <td>0.003035</td>\n",
       "      <td>0.004197</td>\n",
       "      <td>0.000027</td>\n",
       "      <td>-0.000210</td>\n",
       "      <td>0.030864</td>\n",
       "    </tr>\n",
       "    <tr>\n",
       "      <th>std</th>\n",
       "      <td>1.001091</td>\n",
       "      <td>0.998890</td>\n",
       "      <td>0.996711</td>\n",
       "      <td>1.000881</td>\n",
       "      <td>0.986886</td>\n",
       "    </tr>\n",
       "    <tr>\n",
       "      <th>min</th>\n",
       "      <td>-2.557359</td>\n",
       "      <td>-1.871336</td>\n",
       "      <td>-1.790779</td>\n",
       "      <td>-2.484818</td>\n",
       "      <td>-2.730276</td>\n",
       "    </tr>\n",
       "    <tr>\n",
       "      <th>25%</th>\n",
       "      <td>-0.657031</td>\n",
       "      <td>-0.850986</td>\n",
       "      <td>-0.510512</td>\n",
       "      <td>-0.741389</td>\n",
       "      <td>-0.631237</td>\n",
       "    </tr>\n",
       "    <tr>\n",
       "      <th>50%</th>\n",
       "      <td>0.034462</td>\n",
       "      <td>0.003048</td>\n",
       "      <td>-0.077496</td>\n",
       "      <td>0.031184</td>\n",
       "      <td>0.071442</td>\n",
       "    </tr>\n",
       "    <tr>\n",
       "      <th>75%</th>\n",
       "      <td>0.700522</td>\n",
       "      <td>0.680106</td>\n",
       "      <td>0.842842</td>\n",
       "      <td>0.687210</td>\n",
       "      <td>0.718694</td>\n",
       "    </tr>\n",
       "    <tr>\n",
       "      <th>max</th>\n",
       "      <td>3.141788</td>\n",
       "      <td>2.776074</td>\n",
       "      <td>3.259124</td>\n",
       "      <td>3.272702</td>\n",
       "      <td>3.547786</td>\n",
       "    </tr>\n",
       "  </tbody>\n",
       "</table>\n",
       "</div>"
      ],
      "text/plain": [
       "         FGA_TRAIL3    AST_TRAIL3    TOS_TRAIL3    REB_TRAIL3        DK_PTS\n",
       "count  37006.000000  37006.000000  37006.000000  37006.000000  37006.000000\n",
       "mean       0.003035      0.004197      0.000027     -0.000210      0.030864\n",
       "std        1.001091      0.998890      0.996711      1.000881      0.986886\n",
       "min       -2.557359     -1.871336     -1.790779     -2.484818     -2.730276\n",
       "25%       -0.657031     -0.850986     -0.510512     -0.741389     -0.631237\n",
       "50%        0.034462      0.003048     -0.077496      0.031184      0.071442\n",
       "75%        0.700522      0.680106      0.842842      0.687210      0.718694\n",
       "max        3.141788      2.776074      3.259124      3.272702      3.547786"
      ]
     },
     "execution_count": 31,
     "metadata": {},
     "output_type": "execute_result"
    }
   ],
   "source": [
    "train_data.describe()"
   ]
  },
  {
   "cell_type": "code",
   "execution_count": 32,
   "metadata": {
    "scrolled": false
   },
   "outputs": [
    {
     "data": {
      "text/html": [
       "<table class=\"simpletable\">\n",
       "<caption>OLS Regression Results</caption>\n",
       "<tr>\n",
       "  <th>Dep. Variable:</th>         <td>DK_PTS</td>      <th>  R-squared:         </th> <td>   0.495</td> \n",
       "</tr>\n",
       "<tr>\n",
       "  <th>Model:</th>                   <td>OLS</td>       <th>  Adj. R-squared:    </th> <td>   0.495</td> \n",
       "</tr>\n",
       "<tr>\n",
       "  <th>Method:</th>             <td>Least Squares</td>  <th>  F-statistic:       </th> <td>   9079.</td> \n",
       "</tr>\n",
       "<tr>\n",
       "  <th>Date:</th>             <td>Tue, 26 Nov 2019</td> <th>  Prob (F-statistic):</th>  <td>  0.00</td>  \n",
       "</tr>\n",
       "<tr>\n",
       "  <th>Time:</th>                 <td>17:43:12</td>     <th>  Log-Likelihood:    </th> <td> -39367.</td> \n",
       "</tr>\n",
       "<tr>\n",
       "  <th>No. Observations:</th>      <td> 37006</td>      <th>  AIC:               </th> <td>7.874e+04</td>\n",
       "</tr>\n",
       "<tr>\n",
       "  <th>Df Residuals:</th>          <td> 37001</td>      <th>  BIC:               </th> <td>7.879e+04</td>\n",
       "</tr>\n",
       "<tr>\n",
       "  <th>Df Model:</th>              <td>     4</td>      <th>                     </th>     <td> </td>    \n",
       "</tr>\n",
       "<tr>\n",
       "  <th>Covariance Type:</th>      <td>nonrobust</td>    <th>                     </th>     <td> </td>    \n",
       "</tr>\n",
       "</table>\n",
       "<table class=\"simpletable\">\n",
       "<tr>\n",
       "       <td></td>         <th>coef</th>     <th>std err</th>      <th>t</th>      <th>P>|t|</th>  <th>[0.025</th>    <th>0.975]</th>  \n",
       "</tr>\n",
       "<tr>\n",
       "  <th>Intercept</th>  <td>    0.0292</td> <td>    0.004</td> <td>    8.009</td> <td> 0.000</td> <td>    0.022</td> <td>    0.036</td>\n",
       "</tr>\n",
       "<tr>\n",
       "  <th>FGA_TRAIL3</th> <td>    0.3936</td> <td>    0.006</td> <td>   69.915</td> <td> 0.000</td> <td>    0.383</td> <td>    0.405</td>\n",
       "</tr>\n",
       "<tr>\n",
       "  <th>AST_TRAIL3</th> <td>    0.1244</td> <td>    0.005</td> <td>   24.855</td> <td> 0.000</td> <td>    0.115</td> <td>    0.134</td>\n",
       "</tr>\n",
       "<tr>\n",
       "  <th>TOS_TRAIL3</th> <td>    0.0879</td> <td>    0.005</td> <td>   17.376</td> <td> 0.000</td> <td>    0.078</td> <td>    0.098</td>\n",
       "</tr>\n",
       "<tr>\n",
       "  <th>REB_TRAIL3</th> <td>    0.2245</td> <td>    0.004</td> <td>   50.419</td> <td> 0.000</td> <td>    0.216</td> <td>    0.233</td>\n",
       "</tr>\n",
       "</table>\n",
       "<table class=\"simpletable\">\n",
       "<tr>\n",
       "  <th>Omnibus:</th>       <td>122.993</td> <th>  Durbin-Watson:     </th> <td>   2.012</td>\n",
       "</tr>\n",
       "<tr>\n",
       "  <th>Prob(Omnibus):</th> <td> 0.000</td>  <th>  Jarque-Bera (JB):  </th> <td> 132.209</td>\n",
       "</tr>\n",
       "<tr>\n",
       "  <th>Skew:</th>          <td>-0.112</td>  <th>  Prob(JB):          </th> <td>1.96e-29</td>\n",
       "</tr>\n",
       "<tr>\n",
       "  <th>Kurtosis:</th>      <td> 3.190</td>  <th>  Cond. No.          </th> <td>    2.95</td>\n",
       "</tr>\n",
       "</table><br/><br/>Warnings:<br/>[1] Standard Errors assume that the covariance matrix of the errors is correctly specified."
      ],
      "text/plain": [
       "<class 'statsmodels.iolib.summary.Summary'>\n",
       "\"\"\"\n",
       "                            OLS Regression Results                            \n",
       "==============================================================================\n",
       "Dep. Variable:                 DK_PTS   R-squared:                       0.495\n",
       "Model:                            OLS   Adj. R-squared:                  0.495\n",
       "Method:                 Least Squares   F-statistic:                     9079.\n",
       "Date:                Tue, 26 Nov 2019   Prob (F-statistic):               0.00\n",
       "Time:                        17:43:12   Log-Likelihood:                -39367.\n",
       "No. Observations:               37006   AIC:                         7.874e+04\n",
       "Df Residuals:                   37001   BIC:                         7.879e+04\n",
       "Df Model:                           4                                         \n",
       "Covariance Type:            nonrobust                                         \n",
       "==============================================================================\n",
       "                 coef    std err          t      P>|t|      [0.025      0.975]\n",
       "------------------------------------------------------------------------------\n",
       "Intercept      0.0292      0.004      8.009      0.000       0.022       0.036\n",
       "FGA_TRAIL3     0.3936      0.006     69.915      0.000       0.383       0.405\n",
       "AST_TRAIL3     0.1244      0.005     24.855      0.000       0.115       0.134\n",
       "TOS_TRAIL3     0.0879      0.005     17.376      0.000       0.078       0.098\n",
       "REB_TRAIL3     0.2245      0.004     50.419      0.000       0.216       0.233\n",
       "==============================================================================\n",
       "Omnibus:                      122.993   Durbin-Watson:                   2.012\n",
       "Prob(Omnibus):                  0.000   Jarque-Bera (JB):              132.209\n",
       "Skew:                          -0.112   Prob(JB):                     1.96e-29\n",
       "Kurtosis:                       3.190   Cond. No.                         2.95\n",
       "==============================================================================\n",
       "\n",
       "Warnings:\n",
       "[1] Standard Errors assume that the covariance matrix of the errors is correctly specified.\n",
       "\"\"\""
      ]
     },
     "execution_count": 32,
     "metadata": {},
     "output_type": "execute_result"
    }
   ],
   "source": [
    "model = ols(formula=formula, data=train_data).fit()\n",
    "model.summary()"
   ]
  },
  {
   "cell_type": "code",
   "execution_count": 33,
   "metadata": {},
   "outputs": [],
   "source": [
    "corr_test = train_data[vars_of_interest].corr()"
   ]
  },
  {
   "cell_type": "code",
   "execution_count": 36,
   "metadata": {},
   "outputs": [
    {
     "data": {
      "text/plain": [
       "<matplotlib.axes._subplots.AxesSubplot at 0x1c2b026400>"
      ]
     },
     "execution_count": 36,
     "metadata": {},
     "output_type": "execute_result"
    },
    {
     "data": {
      "image/png": "[encoded data removed]",
      "text/plain": [
       "<Figure size 432x288 with 2 Axes>"
      ]
     },
     "metadata": {
      "needs_background": "light"
     },
     "output_type": "display_data"
    }
   ],
   "source": [
    "sns.heatmap(corr_test)"
   ]
  },
  {
   "cell_type": "code",
   "execution_count": 37,
   "metadata": {
    "scrolled": true
   },
   "outputs": [
    {
     "data": {
      "text/html": [
       "<div>\n",
       "<style scoped>\n",
       "    .dataframe tbody tr th:only-of-type {\n",
       "        vertical-align: middle;\n",
       "    }\n",
       "\n",
       "    .dataframe tbody tr th {\n",
       "        vertical-align: top;\n",
       "    }\n",
       "\n",
       "    .dataframe thead th {\n",
       "        text-align: right;\n",
       "    }\n",
       "</style>\n",
       "<table border=\"1\" class=\"dataframe\">\n",
       "  <thead>\n",
       "    <tr style=\"text-align: right;\">\n",
       "      <th></th>\n",
       "      <th>FGA_TRAIL3</th>\n",
       "      <th>AST_TRAIL3</th>\n",
       "      <th>TOS_TRAIL3</th>\n",
       "      <th>REB_TRAIL3</th>\n",
       "      <th>DK_PTS</th>\n",
       "    </tr>\n",
       "  </thead>\n",
       "  <tbody>\n",
       "    <tr>\n",
       "      <th>FGA_TRAIL3</th>\n",
       "      <td>1.000000</td>\n",
       "      <td>0.637491</td>\n",
       "      <td>0.634214</td>\n",
       "      <td>0.553990</td>\n",
       "      <td>0.661954</td>\n",
       "    </tr>\n",
       "    <tr>\n",
       "      <th>AST_TRAIL3</th>\n",
       "      <td>0.637491</td>\n",
       "      <td>1.000000</td>\n",
       "      <td>0.589393</td>\n",
       "      <td>0.330958</td>\n",
       "      <td>0.508089</td>\n",
       "    </tr>\n",
       "    <tr>\n",
       "      <th>TOS_TRAIL3</th>\n",
       "      <td>0.634214</td>\n",
       "      <td>0.589393</td>\n",
       "      <td>1.000000</td>\n",
       "      <td>0.456205</td>\n",
       "      <td>0.520080</td>\n",
       "    </tr>\n",
       "    <tr>\n",
       "      <th>REB_TRAIL3</th>\n",
       "      <td>0.553990</td>\n",
       "      <td>0.330958</td>\n",
       "      <td>0.456205</td>\n",
       "      <td>1.000000</td>\n",
       "      <td>0.531007</td>\n",
       "    </tr>\n",
       "    <tr>\n",
       "      <th>DK_PTS</th>\n",
       "      <td>0.661954</td>\n",
       "      <td>0.508089</td>\n",
       "      <td>0.520080</td>\n",
       "      <td>0.531007</td>\n",
       "      <td>1.000000</td>\n",
       "    </tr>\n",
       "  </tbody>\n",
       "</table>\n",
       "</div>"
      ],
      "text/plain": [
       "            FGA_TRAIL3  AST_TRAIL3  TOS_TRAIL3  REB_TRAIL3    DK_PTS\n",
       "FGA_TRAIL3    1.000000    0.637491    0.634214    0.553990  0.661954\n",
       "AST_TRAIL3    0.637491    1.000000    0.589393    0.330958  0.508089\n",
       "TOS_TRAIL3    0.634214    0.589393    1.000000    0.456205  0.520080\n",
       "REB_TRAIL3    0.553990    0.330958    0.456205    1.000000  0.531007\n",
       "DK_PTS        0.661954    0.508089    0.520080    0.531007  1.000000"
      ]
     },
     "execution_count": 37,
     "metadata": {},
     "output_type": "execute_result"
    }
   ],
   "source": [
    "corr_test"
   ]
  },
  {
   "cell_type": "markdown",
   "metadata": {},
   "source": [
    "# Run regression on test data"
   ]
  },
  {
   "cell_type": "code",
   "execution_count": 38,
   "metadata": {},
   "outputs": [
    {
     "data": {
      "text/html": [
       "<table class=\"simpletable\">\n",
       "<caption>OLS Regression Results</caption>\n",
       "<tr>\n",
       "  <th>Dep. Variable:</th>         <td>DK_PTS</td>      <th>  R-squared:         </th> <td>   0.489</td> \n",
       "</tr>\n",
       "<tr>\n",
       "  <th>Model:</th>                   <td>OLS</td>       <th>  Adj. R-squared:    </th> <td>   0.489</td> \n",
       "</tr>\n",
       "<tr>\n",
       "  <th>Method:</th>             <td>Least Squares</td>  <th>  F-statistic:       </th> <td>   3795.</td> \n",
       "</tr>\n",
       "<tr>\n",
       "  <th>Date:</th>             <td>Tue, 26 Nov 2019</td> <th>  Prob (F-statistic):</th>  <td>  0.00</td>  \n",
       "</tr>\n",
       "<tr>\n",
       "  <th>Time:</th>                 <td>17:43:54</td>     <th>  Log-Likelihood:    </th> <td> -16969.</td> \n",
       "</tr>\n",
       "<tr>\n",
       "  <th>No. Observations:</th>      <td> 15860</td>      <th>  AIC:               </th> <td>3.395e+04</td>\n",
       "</tr>\n",
       "<tr>\n",
       "  <th>Df Residuals:</th>          <td> 15855</td>      <th>  BIC:               </th> <td>3.399e+04</td>\n",
       "</tr>\n",
       "<tr>\n",
       "  <th>Df Model:</th>              <td>     4</td>      <th>                     </th>     <td> </td>    \n",
       "</tr>\n",
       "<tr>\n",
       "  <th>Covariance Type:</th>      <td>nonrobust</td>    <th>                     </th>     <td> </td>    \n",
       "</tr>\n",
       "</table>\n",
       "<table class=\"simpletable\">\n",
       "<tr>\n",
       "       <td></td>         <th>coef</th>     <th>std err</th>      <th>t</th>      <th>P>|t|</th>  <th>[0.025</th>    <th>0.975]</th>  \n",
       "</tr>\n",
       "<tr>\n",
       "  <th>Intercept</th>  <td>    0.0311</td> <td>    0.006</td> <td>    5.545</td> <td> 0.000</td> <td>    0.020</td> <td>    0.042</td>\n",
       "</tr>\n",
       "<tr>\n",
       "  <th>FGA_TRAIL3</th> <td>    0.3861</td> <td>    0.009</td> <td>   44.589</td> <td> 0.000</td> <td>    0.369</td> <td>    0.403</td>\n",
       "</tr>\n",
       "<tr>\n",
       "  <th>AST_TRAIL3</th> <td>    0.1247</td> <td>    0.008</td> <td>   16.351</td> <td> 0.000</td> <td>    0.110</td> <td>    0.140</td>\n",
       "</tr>\n",
       "<tr>\n",
       "  <th>TOS_TRAIL3</th> <td>    0.0922</td> <td>    0.008</td> <td>   11.906</td> <td> 0.000</td> <td>    0.077</td> <td>    0.107</td>\n",
       "</tr>\n",
       "<tr>\n",
       "  <th>REB_TRAIL3</th> <td>    0.2241</td> <td>    0.007</td> <td>   32.627</td> <td> 0.000</td> <td>    0.211</td> <td>    0.238</td>\n",
       "</tr>\n",
       "</table>\n",
       "<table class=\"simpletable\">\n",
       "<tr>\n",
       "  <th>Omnibus:</th>       <td>67.598</td> <th>  Durbin-Watson:     </th> <td>   2.027</td>\n",
       "</tr>\n",
       "<tr>\n",
       "  <th>Prob(Omnibus):</th> <td> 0.000</td> <th>  Jarque-Bera (JB):  </th> <td>  73.356</td>\n",
       "</tr>\n",
       "<tr>\n",
       "  <th>Skew:</th>          <td>-0.126</td> <th>  Prob(JB):          </th> <td>1.18e-16</td>\n",
       "</tr>\n",
       "<tr>\n",
       "  <th>Kurtosis:</th>      <td> 3.218</td> <th>  Cond. No.          </th> <td>    2.94</td>\n",
       "</tr>\n",
       "</table><br/><br/>Warnings:<br/>[1] Standard Errors assume that the covariance matrix of the errors is correctly specified."
      ],
      "text/plain": [
       "<class 'statsmodels.iolib.summary.Summary'>\n",
       "\"\"\"\n",
       "                            OLS Regression Results                            \n",
       "==============================================================================\n",
       "Dep. Variable:                 DK_PTS   R-squared:                       0.489\n",
       "Model:                            OLS   Adj. R-squared:                  0.489\n",
       "Method:                 Least Squares   F-statistic:                     3795.\n",
       "Date:                Tue, 26 Nov 2019   Prob (F-statistic):               0.00\n",
       "Time:                        17:43:54   Log-Likelihood:                -16969.\n",
       "No. Observations:               15860   AIC:                         3.395e+04\n",
       "Df Residuals:                   15855   BIC:                         3.399e+04\n",
       "Df Model:                           4                                         \n",
       "Covariance Type:            nonrobust                                         \n",
       "==============================================================================\n",
       "                 coef    std err          t      P>|t|      [0.025      0.975]\n",
       "------------------------------------------------------------------------------\n",
       "Intercept      0.0311      0.006      5.545      0.000       0.020       0.042\n",
       "FGA_TRAIL3     0.3861      0.009     44.589      0.000       0.369       0.403\n",
       "AST_TRAIL3     0.1247      0.008     16.351      0.000       0.110       0.140\n",
       "TOS_TRAIL3     0.0922      0.008     11.906      0.000       0.077       0.107\n",
       "REB_TRAIL3     0.2241      0.007     32.627      0.000       0.211       0.238\n",
       "==============================================================================\n",
       "Omnibus:                       67.598   Durbin-Watson:                   2.027\n",
       "Prob(Omnibus):                  0.000   Jarque-Bera (JB):               73.356\n",
       "Skew:                          -0.126   Prob(JB):                     1.18e-16\n",
       "Kurtosis:                       3.218   Cond. No.                         2.94\n",
       "==============================================================================\n",
       "\n",
       "Warnings:\n",
       "[1] Standard Errors assume that the covariance matrix of the errors is correctly specified.\n",
       "\"\"\""
      ]
     },
     "execution_count": 38,
     "metadata": {},
     "output_type": "execute_result"
    }
   ],
   "source": [
    "test_data = pd.concat([X_test, y_test], axis = 1)\n",
    "model = ols(formula=formula, data=test_data).fit()\n",
    "model.summary()"
   ]
  },
  {
   "cell_type": "code",
   "execution_count": 39,
   "metadata": {},
   "outputs": [
    {
     "data": {
      "image/png": "[encoded data removed]",
      "text/plain": [
       "<Figure size 432x288 with 1 Axes>"
      ]
     },
     "metadata": {
      "needs_background": "light"
     },
     "output_type": "display_data"
    }
   ],
   "source": [
    "figure = plt.figure()\n",
    "ax = figure.gca()\n",
    "stats.probplot(model.resid, dist = 'norm', plot = ax)\n",
    "plt.show()"
   ]
  },
  {
   "cell_type": "code",
   "execution_count": 40,
   "metadata": {},
   "outputs": [
    {
     "data": {
      "image/png": "[encoded data removed]",
      "text/plain": [
       "<Figure size 432x288 with 1 Axes>"
      ]
     },
     "metadata": {
      "needs_background": "light"
     },
     "output_type": "display_data"
    }
   ],
   "source": [
    "figure = plt.figure()\n",
    "ax = figure.gca()\n",
    "stats.probplot(train_data['DK_PTS'], dist='norm', plot = ax)\n",
    "plt.show()"
   ]
  },
  {
   "cell_type": "code",
   "execution_count": 306,
   "metadata": {
    "scrolled": true
   },
   "outputs": [
    {
     "name": "stdout",
     "output_type": "stream",
     "text": [
      "                       correlation\n",
      "REB_TRAIL3 AST_TRAIL3     0.334042\n",
      "AST_TRAIL3 REB_TRAIL3     0.334042\n",
      "           DK_PTS         0.507681\n",
      "DK_PTS     AST_TRAIL3     0.507681\n",
      "REB_TRAIL3 DK_PTS         0.530621\n",
      "DK_PTS     REB_TRAIL3     0.530621\n",
      "  level_0     level_1  correlation\n",
      "8  DK_PTS      DK_PTS     1.000000\n",
      "5  DK_PTS  REB_TRAIL3     0.530621\n",
      "3  DK_PTS  AST_TRAIL3     0.507681\n"
     ]
    }
   ],
   "source": [
    "corr_unstack = corr_matrix.unstack()\n",
    "sorted_corr = corr_unstack.sort_values(kind=\"quicksort\")\n",
    "\n",
    "corr_df = pd.DataFrame(sorted_corr)\n",
    "corr_df.columns = ['correlation']\n",
    "print(corr_df[(corr_df['correlation'].abs() > 0.3) & (corr_df['correlation'].abs() < 1)])\n",
    "corr_df_index = corr_df.reset_index()\n",
    "# print(corr_df_index[corr_df_index['level_0'] == 'SEC'].sort_values(by = 'correlation', ascending = False))\n",
    "print(corr_df_index[corr_df_index['level_0'] == 'DK_PTS'].sort_values(by = 'correlation', ascending = False))"
   ]
  },
  {
   "cell_type": "code",
   "execution_count": 234,
   "metadata": {},
   "outputs": [
    {
     "data": {
      "text/plain": [
       "Lasso(alpha=0.5, copy_X=True, fit_intercept=True, max_iter=1000,\n",
       "      normalize=False, positive=False, precompute=False, random_state=None,\n",
       "      selection='cyclic', tol=0.0001, warm_start=False)"
      ]
     },
     "execution_count": 234,
     "metadata": {},
     "output_type": "execute_result"
    }
   ],
   "source": [
    "from sklearn.linear_model import Lasso, Ridge, LinearRegression\n",
    "ridge = Ridge(alpha=0.5)\n",
    "ridge.fit(X_train, y_train)\n",
    "\n",
    "lasso = Lasso(alpha=0.5)\n",
    "lasso.fit(X_train, y_train)"
   ]
  },
  {
   "cell_type": "code",
   "execution_count": 235,
   "metadata": {},
   "outputs": [
    {
     "data": {
      "text/plain": [
       "array([[0.17518548, 0.28749527, 0.00028979, 0.1099614 , 0.09447823]])"
      ]
     },
     "execution_count": 235,
     "metadata": {},
     "output_type": "execute_result"
    }
   ],
   "source": [
    "ridge.coef_"
   ]
  },
  {
   "cell_type": "code",
   "execution_count": 236,
   "metadata": {},
   "outputs": [
    {
     "data": {
      "text/plain": [
       "array([0.        , 0.        , 0.00117525, 0.        , 0.        ])"
      ]
     },
     "execution_count": 236,
     "metadata": {},
     "output_type": "execute_result"
    }
   ],
   "source": [
    "lasso.coef_"
   ]
  },
  {
   "cell_type": "code",
   "execution_count": 162,
   "metadata": {
    "scrolled": false
   },
   "outputs": [
    {
     "name": "stderr",
     "output_type": "stream",
     "text": [
      "//anaconda3/lib/python3.7/site-packages/IPython/core/interactiveshell.py:3325: UserWarning: To output multiple subplots, the figure containing the passed axes is being cleared\n",
      "  exec(code_obj, self.user_global_ns, self.user_ns)\n"
     ]
    },
    {
     "data": {
      "image/png": "[encoded data removed]",
      "text/plain": [
       "<Figure size 1080x1080 with 42 Axes>"
      ]
     },
     "metadata": {
      "needs_background": "light"
     },
     "output_type": "display_data"
    }
   ],
   "source": [
    "import matplotlib.pyplot as plt\n",
    "%matplotlib inline\n",
    "fig = plt.figure(figsize=(15,15))\n",
    "ax = fig.gca()\n",
    "stats_sub.hist(ax = ax);"
   ]
  },
  {
   "cell_type": "markdown",
   "metadata": {},
   "source": [
    "# Get Trailing Averages for Last 5 Games"
   ]
  },
  {
   "cell_type": "code",
   "execution_count": 167,
   "metadata": {},
   "outputs": [],
   "source": [
    "nba_trailing_5 = []\n",
    "for season in set(nba_df_played['SEASON_ID']):\n",
    "    for player in set(nba_df_played['PLAYER_ID']):\n",
    "        games_played = nba_df_played[(nba_df_played['PLAYER_ID'] == player) & \n",
    "                                     (nba_df_played['SEASON_ID'] == season)]\n",
    "        games_played = games_played.sort_values(by = ['GAME_ID'])\n",
    "        games_played.reset_index(drop = True, inplace = True)\n",
    "                      \n",
    "        # Group 1: Field Goals\n",
    "        get_trailing_avg(games_played, 'FGM', 5)\n",
    "        get_trailing_avg(games_played, 'FGA', 5)\n",
    "        get_trailing_avg(games_played, 'FG_PCT', 5)\n",
    "\n",
    "        # Group 3: Free Throws\n",
    "        get_trailing_avg(games_played, 'FTM', 5)\n",
    "        get_trailing_avg(games_played, 'FTA', 5)\n",
    "        get_trailing_avg(games_played, 'FT_PCT', 5)\n",
    "\n",
    "        # Group 4: Rebounds\n",
    "        get_trailing_avg(games_played, 'REB', 5)\n",
    "        \n",
    "        # Group 5: Miscellaneous\n",
    "        get_trailing_avg(games_played, 'PTS', 5)\n",
    "        get_trailing_avg(games_played, 'STL', 5)\n",
    "        get_trailing_avg(games_played, 'AST', 5)            \n",
    "        get_trailing_avg(games_played, 'BLK', 5)\n",
    "        get_trailing_avg(games_played, 'TOS', 5)\n",
    "        get_trailing_avg(games_played, 'SEC', 5)\n",
    "                      \n",
    "        nba_trailing_5.append(games_played)"
   ]
  },
  {
   "cell_type": "code",
   "execution_count": 171,
   "metadata": {},
   "outputs": [],
   "source": [
    "nba_trailing_5_df = pd.concat(nba_trailing_5)"
   ]
  },
  {
   "cell_type": "code",
   "execution_count": 222,
   "metadata": {},
   "outputs": [],
   "source": [
    "nba_trailing_5_df.reset_index(drop = True, inplace = True)"
   ]
  },
  {
   "cell_type": "code",
   "execution_count": 223,
   "metadata": {},
   "outputs": [],
   "source": [
    "nba_trailing_5_df = nba_trailing_5_df.replace({'game1': None, 'game2': None, 'game3': None, 'game4': None, 'game5': None})"
   ]
  },
  {
   "cell_type": "code",
   "execution_count": 226,
   "metadata": {},
   "outputs": [],
   "source": [
    "trailing_5 = nba_trailing_5_df[['FGM_TRAIL5', 'FGA_TRAIL5', 'FG_PCT_TRAIL5', \n",
    "                                'FTM_TRAIL5', 'FTA_TRAIL5', 'FT_PCT_TRAIL5', \n",
    "                                'REB_TRAIL5', 'PTS_TRAIL5', 'STL_TRAIL5',\n",
    "                                'AST_TRAIL5', 'BLK_TRAIL5', 'TOS_TRAIL5', \n",
    "                                'SEC_TRAIL5', 'DK_PTS']]"
   ]
  },
  {
   "cell_type": "code",
   "execution_count": 228,
   "metadata": {},
   "outputs": [
    {
     "name": "stderr",
     "output_type": "stream",
     "text": [
      "//anaconda3/lib/python3.7/site-packages/ipykernel_launcher.py:1: SettingWithCopyWarning: \n",
      "A value is trying to be set on a copy of a slice from a DataFrame\n",
      "\n",
      "See the caveats in the documentation: http://pandas.pydata.org/pandas-docs/stable/indexing.html#indexing-view-versus-copy\n",
      "  \"\"\"Entry point for launching an IPython kernel.\n"
     ]
    }
   ],
   "source": [
    "trailing_5.dropna(inplace = True)"
   ]
  },
  {
   "cell_type": "code",
   "execution_count": 232,
   "metadata": {},
   "outputs": [],
   "source": [
    "trailing_5.reset_index(drop = True, inplace = True)"
   ]
  },
  {
   "cell_type": "code",
   "execution_count": 246,
   "metadata": {},
   "outputs": [],
   "source": [
    "corr_5 = trailing_5[['REB_TRAIL5', 'STL_TRAIL5',\n",
    "                     'AST_TRAIL5', 'TOS_TRAIL5', \n",
    "                     'SEC_TRAIL5', 'DK_PTS']].corr()"
   ]
  },
  {
   "cell_type": "code",
   "execution_count": 247,
   "metadata": {},
   "outputs": [
    {
     "data": {
      "text/plain": [
       "<matplotlib.axes._subplots.AxesSubplot at 0x12992fb38>"
      ]
     },
     "execution_count": 247,
     "metadata": {},
     "output_type": "execute_result"
    },
    {
     "data": {
      "image/png": "[encoded data removed]",
      "text/plain": [
       "<Figure size 432x288 with 2 Axes>"
      ]
     },
     "metadata": {
      "needs_background": "light"
     },
     "output_type": "display_data"
    }
   ],
   "source": [
    "sns.heatmap(corr_5)"
   ]
  },
  {
   "cell_type": "code",
   "execution_count": 248,
   "metadata": {},
   "outputs": [
    {
     "name": "stdout",
     "output_type": "stream",
     "text": [
      "                       correlation\n",
      "DK_PTS     STL_TRAIL5     0.387528\n",
      "STL_TRAIL5 DK_PTS         0.387528\n",
      "TOS_TRAIL5 STL_TRAIL5     0.425702\n",
      "STL_TRAIL5 TOS_TRAIL5     0.425702\n",
      "REB_TRAIL5 TOS_TRAIL5     0.440764\n",
      "TOS_TRAIL5 REB_TRAIL5     0.440764\n",
      "STL_TRAIL5 AST_TRAIL5     0.466802\n",
      "AST_TRAIL5 STL_TRAIL5     0.466802\n",
      "           DK_PTS         0.516444\n",
      "DK_PTS     AST_TRAIL5     0.516444\n",
      "           REB_TRAIL5     0.523032\n",
      "REB_TRAIL5 DK_PTS         0.523032\n",
      "SEC_TRAIL5 STL_TRAIL5     0.549349\n",
      "STL_TRAIL5 SEC_TRAIL5     0.549349\n",
      "REB_TRAIL5 SEC_TRAIL5     0.556777\n",
      "SEC_TRAIL5 REB_TRAIL5     0.556777\n",
      "DK_PTS     TOS_TRAIL5     0.576937\n",
      "TOS_TRAIL5 DK_PTS         0.576937\n",
      "AST_TRAIL5 SEC_TRAIL5     0.596984\n",
      "SEC_TRAIL5 AST_TRAIL5     0.596984\n",
      "DK_PTS     SEC_TRAIL5     0.630390\n",
      "SEC_TRAIL5 DK_PTS         0.630390\n",
      "TOS_TRAIL5 SEC_TRAIL5     0.636245\n",
      "SEC_TRAIL5 TOS_TRAIL5     0.636245\n",
      "AST_TRAIL5 TOS_TRAIL5     0.678924\n",
      "TOS_TRAIL5 AST_TRAIL5     0.678924\n"
     ]
    }
   ],
   "source": [
    "corr_unstack = corr_5.unstack()\n",
    "sorted_corr = corr_unstack.sort_values(kind=\"quicksort\")\n",
    "\n",
    "corr_df = pd.DataFrame(sorted_corr)\n",
    "corr_df.columns = ['correlation']\n",
    "print(corr_df[(corr_df['correlation'].abs() > 0.3) & (corr_df['correlation'].abs() < 1)])\n",
    "corr_df_index = corr_df.reset_index()"
   ]
  },
  {
   "cell_type": "code",
   "execution_count": 252,
   "metadata": {},
   "outputs": [],
   "source": [
    "lm_attempt3 = trailing_5[['REB_TRAIL5', 'STL_TRAIL5',\n",
    "                     'AST_TRAIL5', 'TOS_TRAIL5', \n",
    "                     'SEC_TRAIL5', 'DK_PTS']]\n",
    "outcome = 'DK_PTS'\n",
    "Y3 = lm_attempt3[['DK_PTS']]\n",
    "predictors3 = lm_attempt3.drop('DK_PTS', axis=1)\n",
    "pred_sum = \"+\".join(predictors3.columns)\n",
    "formula = outcome + \"~\" + pred_sum"
   ]
  },
  {
   "cell_type": "code",
   "execution_count": 253,
   "metadata": {},
   "outputs": [
    {
     "data": {
      "text/html": [
       "<table class=\"simpletable\">\n",
       "<caption>OLS Regression Results</caption>\n",
       "<tr>\n",
       "  <th>Dep. Variable:</th>         <td>DK_PTS</td>      <th>  R-squared:         </th>  <td>   0.495</td>  \n",
       "</tr>\n",
       "<tr>\n",
       "  <th>Model:</th>                   <td>OLS</td>       <th>  Adj. R-squared:    </th>  <td>   0.495</td>  \n",
       "</tr>\n",
       "<tr>\n",
       "  <th>Method:</th>             <td>Least Squares</td>  <th>  F-statistic:       </th>  <td>   9840.</td>  \n",
       "</tr>\n",
       "<tr>\n",
       "  <th>Date:</th>             <td>Tue, 26 Nov 2019</td> <th>  Prob (F-statistic):</th>   <td>  0.00</td>   \n",
       "</tr>\n",
       "<tr>\n",
       "  <th>Time:</th>                 <td>15:32:27</td>     <th>  Log-Likelihood:    </th> <td>-1.8734e+05</td>\n",
       "</tr>\n",
       "<tr>\n",
       "  <th>No. Observations:</th>      <td> 50109</td>      <th>  AIC:               </th>  <td>3.747e+05</td> \n",
       "</tr>\n",
       "<tr>\n",
       "  <th>Df Residuals:</th>          <td> 50103</td>      <th>  BIC:               </th>  <td>3.747e+05</td> \n",
       "</tr>\n",
       "<tr>\n",
       "  <th>Df Model:</th>              <td>     5</td>      <th>                     </th>      <td> </td>     \n",
       "</tr>\n",
       "<tr>\n",
       "  <th>Covariance Type:</th>      <td>nonrobust</td>    <th>                     </th>      <td> </td>     \n",
       "</tr>\n",
       "</table>\n",
       "<table class=\"simpletable\">\n",
       "<tr>\n",
       "       <td></td>         <th>coef</th>     <th>std err</th>      <th>t</th>      <th>P>|t|</th>  <th>[0.025</th>    <th>0.975]</th>  \n",
       "</tr>\n",
       "<tr>\n",
       "  <th>Intercept</th>  <td>   -0.3553</td> <td>    0.132</td> <td>   -2.702</td> <td> 0.007</td> <td>   -0.613</td> <td>   -0.098</td>\n",
       "</tr>\n",
       "<tr>\n",
       "  <th>REB_TRAIL5</th> <td>    1.2870</td> <td>    0.020</td> <td>   63.484</td> <td> 0.000</td> <td>    1.247</td> <td>    1.327</td>\n",
       "</tr>\n",
       "<tr>\n",
       "  <th>STL_TRAIL5</th> <td>    0.4937</td> <td>    0.098</td> <td>    5.049</td> <td> 0.000</td> <td>    0.302</td> <td>    0.685</td>\n",
       "</tr>\n",
       "<tr>\n",
       "  <th>AST_TRAIL5</th> <td>    1.2146</td> <td>    0.034</td> <td>   36.221</td> <td> 0.000</td> <td>    1.149</td> <td>    1.280</td>\n",
       "</tr>\n",
       "<tr>\n",
       "  <th>TOS_TRAIL5</th> <td>    2.5406</td> <td>    0.072</td> <td>   35.285</td> <td> 0.000</td> <td>    2.399</td> <td>    2.682</td>\n",
       "</tr>\n",
       "<tr>\n",
       "  <th>SEC_TRAIL5</th> <td>    0.0074</td> <td>    0.000</td> <td>   52.880</td> <td> 0.000</td> <td>    0.007</td> <td>    0.008</td>\n",
       "</tr>\n",
       "</table>\n",
       "<table class=\"simpletable\">\n",
       "<tr>\n",
       "  <th>Omnibus:</th>       <td>2557.621</td> <th>  Durbin-Watson:     </th> <td>   1.704</td>\n",
       "</tr>\n",
       "<tr>\n",
       "  <th>Prob(Omnibus):</th>  <td> 0.000</td>  <th>  Jarque-Bera (JB):  </th> <td>3388.855</td>\n",
       "</tr>\n",
       "<tr>\n",
       "  <th>Skew:</th>           <td> 0.499</td>  <th>  Prob(JB):          </th> <td>    0.00</td>\n",
       "</tr>\n",
       "<tr>\n",
       "  <th>Kurtosis:</th>       <td> 3.791</td>  <th>  Cond. No.          </th> <td>4.30e+03</td>\n",
       "</tr>\n",
       "</table><br/><br/>Warnings:<br/>[1] Standard Errors assume that the covariance matrix of the errors is correctly specified.<br/>[2] The condition number is large, 4.3e+03. This might indicate that there are<br/>strong multicollinearity or other numerical problems."
      ],
      "text/plain": [
       "<class 'statsmodels.iolib.summary.Summary'>\n",
       "\"\"\"\n",
       "                            OLS Regression Results                            \n",
       "==============================================================================\n",
       "Dep. Variable:                 DK_PTS   R-squared:                       0.495\n",
       "Model:                            OLS   Adj. R-squared:                  0.495\n",
       "Method:                 Least Squares   F-statistic:                     9840.\n",
       "Date:                Tue, 26 Nov 2019   Prob (F-statistic):               0.00\n",
       "Time:                        15:32:27   Log-Likelihood:            -1.8734e+05\n",
       "No. Observations:               50109   AIC:                         3.747e+05\n",
       "Df Residuals:                   50103   BIC:                         3.747e+05\n",
       "Df Model:                           5                                         \n",
       "Covariance Type:            nonrobust                                         \n",
       "==============================================================================\n",
       "                 coef    std err          t      P>|t|      [0.025      0.975]\n",
       "------------------------------------------------------------------------------\n",
       "Intercept     -0.3553      0.132     -2.702      0.007      -0.613      -0.098\n",
       "REB_TRAIL5     1.2870      0.020     63.484      0.000       1.247       1.327\n",
       "STL_TRAIL5     0.4937      0.098      5.049      0.000       0.302       0.685\n",
       "AST_TRAIL5     1.2146      0.034     36.221      0.000       1.149       1.280\n",
       "TOS_TRAIL5     2.5406      0.072     35.285      0.000       2.399       2.682\n",
       "SEC_TRAIL5     0.0074      0.000     52.880      0.000       0.007       0.008\n",
       "==============================================================================\n",
       "Omnibus:                     2557.621   Durbin-Watson:                   1.704\n",
       "Prob(Omnibus):                  0.000   Jarque-Bera (JB):             3388.855\n",
       "Skew:                           0.499   Prob(JB):                         0.00\n",
       "Kurtosis:                       3.791   Cond. No.                     4.30e+03\n",
       "==============================================================================\n",
       "\n",
       "Warnings:\n",
       "[1] Standard Errors assume that the covariance matrix of the errors is correctly specified.\n",
       "[2] The condition number is large, 4.3e+03. This might indicate that there are\n",
       "strong multicollinearity or other numerical problems.\n",
       "\"\"\""
      ]
     },
     "execution_count": 253,
     "metadata": {},
     "output_type": "execute_result"
    }
   ],
   "source": [
    "model = ols(formula=formula, data=lm_attempt3).fit()\n",
    "model.summary()"
   ]
  },
  {
   "cell_type": "code",
   "execution_count": null,
   "metadata": {},
   "outputs": [],
   "source": []
  }
 ],
 "metadata": {
  "kernelspec": {
   "display_name": "Python 3",
   "language": "python",
   "name": "python3"
  },
  "language_info": {
   "codemirror_mode": {
    "name": "ipython",
    "version": 3
   },
   "file_extension": ".py",
   "mimetype": "text/x-python",
   "name": "python",
   "nbconvert_exporter": "python",
   "pygments_lexer": "ipython3",
   "version": "3.7.3"
  }
 },
 "nbformat": 4,
 "nbformat_minor": 2
}
