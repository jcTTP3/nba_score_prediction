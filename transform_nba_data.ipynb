{
 "cells": [
  {
   "cell_type": "markdown",
   "metadata": {},
   "source": [
    "# Import Packages"
   ]
  },
  {
   "cell_type": "code",
   "execution_count": 35,
   "metadata": {},
   "outputs": [],
   "source": [
    "import mysql.connector\n",
    "from mysql.connector import errorcode\n",
    "import config\n",
    "import pandas as pd\n",
    "import numpy as np\n",
    "import statsmodels.api as sm\n",
    "from statsmodels.formula.api import ols\n",
    "from sklearn.linear_model import LinearRegression\n",
    "from sklearn.model_selection import train_test_split\n",
    "import scipy.stats as stats\n",
    "import seaborn as sns"
   ]
  },
  {
   "cell_type": "markdown",
   "metadata": {},
   "source": [
    "# Connect to MySQL"
   ]
  },
  {
   "cell_type": "code",
   "execution_count": 3,
   "metadata": {},
   "outputs": [],
   "source": [
    "dbname = 'nba'\n",
    "cnx = mysql.connector.connect(\n",
    "    host = config.host,\n",
    "    user = config.user,\n",
    "    passwd = config.password,\n",
    "    db = dbname\n",
    ")\n",
    "cursor = cnx.cursor(buffered = True)"
   ]
  },
  {
   "cell_type": "markdown",
   "metadata": {},
   "source": [
    "# Get box scores"
   ]
  },
  {
   "cell_type": "code",
   "execution_count": 4,
   "metadata": {},
   "outputs": [],
   "source": [
    "select_statement = \"\"\"SELECT * FROM nba.box_score;\"\"\"\n",
    "cursor.execute(select_statement)\n",
    "nba_data = cursor.fetchall()"
   ]
  },
  {
   "cell_type": "code",
   "execution_count": 5,
   "metadata": {},
   "outputs": [],
   "source": [
    "nba_df = pd.DataFrame(nba_data)\n",
    "field_names = [i[0] for i in cursor.description]\n",
    "nba_df.columns = field_names"
   ]
  },
  {
   "cell_type": "code",
   "execution_count": 6,
   "metadata": {},
   "outputs": [],
   "source": [
    "nba_df_played = nba_df[nba_df['MIN'].notnull()]"
   ]
  },
  {
   "cell_type": "code",
   "execution_count": 7,
   "metadata": {
    "scrolled": true
   },
   "outputs": [
    {
     "name": "stdout",
     "output_type": "stream",
     "text": [
      "<class 'pandas.core.frame.DataFrame'>\n",
      "Int64Index: 57287 entries, 3 to 67817\n",
      "Data columns (total 34 columns):\n",
      "GAME_ID              57287 non-null object\n",
      "TEAM_ID              57287 non-null float64\n",
      "TEAM_ABBREVIATION    57287 non-null object\n",
      "TEAM_CITY            57287 non-null object\n",
      "PLAYER_ID            57287 non-null float64\n",
      "PLAYER_NAME          57287 non-null object\n",
      "START_POSITION       57287 non-null object\n",
      "COMMENT              57287 non-null object\n",
      "MIN                  57287 non-null object\n",
      "FGM                  57287 non-null float64\n",
      "FGA                  57287 non-null float64\n",
      "FG_PCT               57287 non-null float64\n",
      "FG3M                 57287 non-null float64\n",
      "FG3A                 57287 non-null float64\n",
      "FG3_PCT              57287 non-null float64\n",
      "FTM                  57287 non-null float64\n",
      "FTA                  57287 non-null float64\n",
      "FT_PCT               57287 non-null float64\n",
      "OREB                 57287 non-null float64\n",
      "DREB                 57287 non-null float64\n",
      "REB                  57287 non-null float64\n",
      "AST                  57287 non-null float64\n",
      "STL                  57287 non-null float64\n",
      "BLK                  57287 non-null float64\n",
      "PF                   57287 non-null float64\n",
      "PTS                  57287 non-null float64\n",
      "PLUS_MINUS           57287 non-null float64\n",
      "pk                   57287 non-null object\n",
      "TOS                  57287 non-null float64\n",
      "SEASON_ID            57287 non-null object\n",
      "DK_PTS               57287 non-null float64\n",
      "DD                   57287 non-null int64\n",
      "TD                   57287 non-null int64\n",
      "doubles              57287 non-null float64\n",
      "dtypes: float64(23), int64(2), object(9)\n",
      "memory usage: 15.3+ MB\n"
     ]
    }
   ],
   "source": [
    "nba_df_played.info()"
   ]
  },
  {
   "cell_type": "code",
   "execution_count": 9,
   "metadata": {
    "scrolled": true
   },
   "outputs": [
    {
     "data": {
      "text/plain": [
       "(57287, 34)"
      ]
     },
     "execution_count": 9,
     "metadata": {},
     "output_type": "execute_result"
    }
   ],
   "source": [
    "nba_df_played.shape"
   ]
  },
  {
   "cell_type": "markdown",
   "metadata": {},
   "source": [
    "# Create second variable"
   ]
  },
  {
   "cell_type": "code",
   "execution_count": 12,
   "metadata": {},
   "outputs": [
    {
     "name": "stderr",
     "output_type": "stream",
     "text": [
      "//anaconda3/lib/python3.7/site-packages/ipykernel_launcher.py:2: SettingWithCopyWarning: \n",
      "A value is trying to be set on a copy of a slice from a DataFrame.\n",
      "Try using .loc[row_indexer,col_indexer] = value instead\n",
      "\n",
      "See the caveats in the documentation: http://pandas.pydata.org/pandas-docs/stable/indexing.html#indexing-view-versus-copy\n",
      "  \n"
     ]
    }
   ],
   "source": [
    "nba_df_played.reset_index(drop = True, inplace = True)\n",
    "nba_df_played['SEC'] = 0\n",
    "for i in range(0, len(nba_df_played)):\n",
    "    minutes = nba_df_played.loc[i, 'MIN']\n",
    "    nba_df_played.at[i, 'SEC'] = int(minutes.split(':')[0])*60 + int(minutes.split(':')[1])"
   ]
  },
  {
   "cell_type": "markdown",
   "metadata": {},
   "source": [
    "# Get Trailing Averages for Last 3 Games"
   ]
  },
  {
   "cell_type": "code",
   "execution_count": 13,
   "metadata": {},
   "outputs": [],
   "source": [
    "# Get average from last trail_len\n",
    "def get_trailing_avg(df, col_name, trail_len):\n",
    "    new_col = col_name + '_TRAIL' + str(trail_len)\n",
    "    df[new_col] = None\n",
    "    for i in range(0, trail_len):\n",
    "        df.at[i, new_col] = 'game' + str(i + 1)\n",
    "    for index in range(trail_len, len(df)):\n",
    "        df.at[index, new_col] = np.mean(df.loc[index-trail_len:index-1, col_name])"
   ]
  },
  {
   "cell_type": "code",
   "execution_count": 14,
   "metadata": {},
   "outputs": [],
   "source": [
    "nba_trailing = []\n",
    "for season in set(nba_df_played['SEASON_ID']):\n",
    "    for player in set(nba_df_played['PLAYER_ID']):\n",
    "        games_played = nba_df_played[(nba_df_played['PLAYER_ID'] == player) & \n",
    "                                     (nba_df_played['SEASON_ID'] == season)]\n",
    "        games_played = games_played.sort_values(by = ['GAME_ID'])\n",
    "        games_played.reset_index(drop = True, inplace = True)\n",
    "                      \n",
    "        # Group 1: Field Goals\n",
    "        get_trailing_avg(games_played, 'FGM', 3)\n",
    "        get_trailing_avg(games_played, 'FGA', 3)\n",
    "        get_trailing_avg(games_played, 'FG_PCT', 3)\n",
    "        \n",
    "        # Group 2: Three-Pointers\n",
    "        get_trailing_avg(games_played, 'FG3M', 3)\n",
    "        get_trailing_avg(games_played, 'FG3A', 3)\n",
    "        get_trailing_avg(games_played, 'FG3_PCT', 3)\n",
    "\n",
    "        # Group 3: Free Throws\n",
    "        get_trailing_avg(games_played, 'FTM', 3)\n",
    "        get_trailing_avg(games_played, 'FTA', 3)\n",
    "        get_trailing_avg(games_played, 'FT_PCT', 3)\n",
    "\n",
    "        # Group 4: Rebounds\n",
    "        get_trailing_avg(games_played, 'OREB', 3)\n",
    "        get_trailing_avg(games_played, 'DREB', 3)\n",
    "        get_trailing_avg(games_played, 'REB', 3)\n",
    "        \n",
    "        # Group 5: Miscellaneous\n",
    "        get_trailing_avg(games_played, 'PTS', 3)\n",
    "        get_trailing_avg(games_played, 'STL', 3)\n",
    "        get_trailing_avg(games_played, 'AST', 3)            \n",
    "        get_trailing_avg(games_played, 'BLK', 3)\n",
    "        get_trailing_avg(games_played, 'TOS', 3)\n",
    "        get_trailing_avg(games_played, 'doubles', 3)\n",
    "        get_trailing_avg(games_played, 'SEC', 3)\n",
    "                      \n",
    "        nba_trailing.append(games_played)"
   ]
  },
  {
   "cell_type": "code",
   "execution_count": 15,
   "metadata": {},
   "outputs": [],
   "source": [
    "nba_trailing_df = pd.concat(nba_trailing)"
   ]
  },
  {
   "cell_type": "code",
   "execution_count": 16,
   "metadata": {},
   "outputs": [],
   "source": [
    "nba_trailing_played = nba_trailing_df[nba_trailing_df['MIN'].notnull()]"
   ]
  },
  {
   "cell_type": "code",
   "execution_count": 17,
   "metadata": {},
   "outputs": [
    {
     "data": {
      "text/plain": [
       "Index(['GAME_ID', 'TEAM_ID', 'TEAM_ABBREVIATION', 'TEAM_CITY', 'PLAYER_ID',\n",
       "       'PLAYER_NAME', 'START_POSITION', 'COMMENT', 'MIN', 'FGM', 'FGA',\n",
       "       'FG_PCT', 'FG3M', 'FG3A', 'FG3_PCT', 'FTM', 'FTA', 'FT_PCT', 'OREB',\n",
       "       'DREB', 'REB', 'AST', 'STL', 'BLK', 'PF', 'PTS', 'PLUS_MINUS', 'pk',\n",
       "       'TOS', 'SEASON_ID', 'DK_PTS', 'DD', 'TD', 'doubles', 'SEC',\n",
       "       'FGM_TRAIL3', 'FGA_TRAIL3', 'FG_PCT_TRAIL3', 'FG3M_TRAIL3',\n",
       "       'FG3A_TRAIL3', 'FG3_PCT_TRAIL3', 'FTM_TRAIL3', 'FTA_TRAIL3',\n",
       "       'FT_PCT_TRAIL3', 'OREB_TRAIL3', 'DREB_TRAIL3', 'REB_TRAIL3',\n",
       "       'PTS_TRAIL3', 'STL_TRAIL3', 'AST_TRAIL3', 'BLK_TRAIL3', 'TOS_TRAIL3',\n",
       "       'doubles_TRAIL3', 'SEC_TRAIL3'],\n",
       "      dtype='object')"
      ]
     },
     "execution_count": 17,
     "metadata": {},
     "output_type": "execute_result"
    }
   ],
   "source": [
    "nba_trailing_played.columns"
   ]
  },
  {
   "cell_type": "code",
   "execution_count": 41,
   "metadata": {},
   "outputs": [],
   "source": [
    "nba_trailing_played.to_csv('NBA_box_scores_trailing3.csv')"
   ]
  }
 ],
 "metadata": {
  "kernelspec": {
   "display_name": "Python 3",
   "language": "python",
   "name": "python3"
  },
  "language_info": {
   "codemirror_mode": {
    "name": "ipython",
    "version": 3
   },
   "file_extension": ".py",
   "mimetype": "text/x-python",
   "name": "python",
   "nbconvert_exporter": "python",
   "pygments_lexer": "ipython3",
   "version": "3.7.3"
  }
 },
 "nbformat": 4,
 "nbformat_minor": 2
}
